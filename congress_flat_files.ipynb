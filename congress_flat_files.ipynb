{
 "cells": [
  {
   "cell_type": "code",
   "execution_count": 1,
   "id": "9d6cd8f4-e29f-4be9-a06a-e97758677ca8",
   "metadata": {},
   "outputs": [],
   "source": [
    "import numpy as np\n",
    "import pandas as pd\n",
    "import requests\n",
    "from ydata_profiling import ProfileReport"
   ]
  },
  {
   "cell_type": "code",
   "execution_count": 2,
   "id": "4401b69e-9d5f-4178-83cf-0912e51e60c8",
   "metadata": {},
   "outputs": [
    {
     "data": {
      "text/html": [
       "<div>\n",
       "<style scoped>\n",
       "    .dataframe tbody tr th:only-of-type {\n",
       "        vertical-align: middle;\n",
       "    }\n",
       "\n",
       "    .dataframe tbody tr th {\n",
       "        vertical-align: top;\n",
       "    }\n",
       "\n",
       "    .dataframe thead th {\n",
       "        text-align: right;\n",
       "    }\n",
       "</style>\n",
       "<table border=\"1\" class=\"dataframe\">\n",
       "  <thead>\n",
       "    <tr style=\"text-align: right;\">\n",
       "      <th></th>\n",
       "      <th>congress</th>\n",
       "      <th>chamber</th>\n",
       "      <th>icpsr</th>\n",
       "      <th>state_icpsr</th>\n",
       "      <th>district_code</th>\n",
       "      <th>state_abbrev</th>\n",
       "      <th>party_code</th>\n",
       "      <th>occupancy</th>\n",
       "      <th>last_means</th>\n",
       "      <th>bioname</th>\n",
       "      <th>...</th>\n",
       "      <th>died</th>\n",
       "      <th>nominate_dim1</th>\n",
       "      <th>nominate_dim2</th>\n",
       "      <th>nominate_log_likelihood</th>\n",
       "      <th>nominate_geo_mean_probability</th>\n",
       "      <th>nominate_number_of_votes</th>\n",
       "      <th>nominate_number_of_errors</th>\n",
       "      <th>conditional</th>\n",
       "      <th>nokken_poole_dim1</th>\n",
       "      <th>nokken_poole_dim2</th>\n",
       "    </tr>\n",
       "  </thead>\n",
       "  <tbody>\n",
       "    <tr>\n",
       "      <th>0</th>\n",
       "      <td>1</td>\n",
       "      <td>President</td>\n",
       "      <td>99869</td>\n",
       "      <td>99</td>\n",
       "      <td>0.0</td>\n",
       "      <td>USA</td>\n",
       "      <td>5000</td>\n",
       "      <td>NaN</td>\n",
       "      <td>NaN</td>\n",
       "      <td>WASHINGTON, George</td>\n",
       "      <td>...</td>\n",
       "      <td>NaN</td>\n",
       "      <td>NaN</td>\n",
       "      <td>NaN</td>\n",
       "      <td>NaN</td>\n",
       "      <td>NaN</td>\n",
       "      <td>NaN</td>\n",
       "      <td>NaN</td>\n",
       "      <td>NaN</td>\n",
       "      <td>NaN</td>\n",
       "      <td>NaN</td>\n",
       "    </tr>\n",
       "    <tr>\n",
       "      <th>1</th>\n",
       "      <td>1</td>\n",
       "      <td>House</td>\n",
       "      <td>379</td>\n",
       "      <td>44</td>\n",
       "      <td>2.0</td>\n",
       "      <td>GA</td>\n",
       "      <td>4000</td>\n",
       "      <td>0.0</td>\n",
       "      <td>1.0</td>\n",
       "      <td>BALDWIN, Abraham</td>\n",
       "      <td>...</td>\n",
       "      <td>1807.0</td>\n",
       "      <td>-0.165</td>\n",
       "      <td>-0.373</td>\n",
       "      <td>-28.55029</td>\n",
       "      <td>0.75800</td>\n",
       "      <td>103.0</td>\n",
       "      <td>12.0</td>\n",
       "      <td>NaN</td>\n",
       "      <td>-0.429</td>\n",
       "      <td>-0.817</td>\n",
       "    </tr>\n",
       "    <tr>\n",
       "      <th>2</th>\n",
       "      <td>1</td>\n",
       "      <td>House</td>\n",
       "      <td>4854</td>\n",
       "      <td>44</td>\n",
       "      <td>1.0</td>\n",
       "      <td>GA</td>\n",
       "      <td>4000</td>\n",
       "      <td>0.0</td>\n",
       "      <td>1.0</td>\n",
       "      <td>JACKSON, James</td>\n",
       "      <td>...</td>\n",
       "      <td>1806.0</td>\n",
       "      <td>-0.320</td>\n",
       "      <td>-0.181</td>\n",
       "      <td>-24.89986</td>\n",
       "      <td>0.77600</td>\n",
       "      <td>98.0</td>\n",
       "      <td>9.0</td>\n",
       "      <td>NaN</td>\n",
       "      <td>-0.559</td>\n",
       "      <td>-0.052</td>\n",
       "    </tr>\n",
       "    <tr>\n",
       "      <th>3</th>\n",
       "      <td>1</td>\n",
       "      <td>House</td>\n",
       "      <td>6071</td>\n",
       "      <td>44</td>\n",
       "      <td>3.0</td>\n",
       "      <td>GA</td>\n",
       "      <td>4000</td>\n",
       "      <td>0.0</td>\n",
       "      <td>1.0</td>\n",
       "      <td>MATHEWS, George</td>\n",
       "      <td>...</td>\n",
       "      <td>1812.0</td>\n",
       "      <td>-0.428</td>\n",
       "      <td>-0.317</td>\n",
       "      <td>-12.62728</td>\n",
       "      <td>0.88000</td>\n",
       "      <td>99.0</td>\n",
       "      <td>2.0</td>\n",
       "      <td>NaN</td>\n",
       "      <td>-0.413</td>\n",
       "      <td>-0.232</td>\n",
       "    </tr>\n",
       "    <tr>\n",
       "      <th>4</th>\n",
       "      <td>1</td>\n",
       "      <td>House</td>\n",
       "      <td>1538</td>\n",
       "      <td>52</td>\n",
       "      <td>6.0</td>\n",
       "      <td>MD</td>\n",
       "      <td>5000</td>\n",
       "      <td>0.0</td>\n",
       "      <td>1.0</td>\n",
       "      <td>CARROLL, Daniel</td>\n",
       "      <td>...</td>\n",
       "      <td>1796.0</td>\n",
       "      <td>0.116</td>\n",
       "      <td>-0.740</td>\n",
       "      <td>-23.47008</td>\n",
       "      <td>0.78300</td>\n",
       "      <td>96.0</td>\n",
       "      <td>11.0</td>\n",
       "      <td>NaN</td>\n",
       "      <td>0.114</td>\n",
       "      <td>-0.779</td>\n",
       "    </tr>\n",
       "    <tr>\n",
       "      <th>...</th>\n",
       "      <td>...</td>\n",
       "      <td>...</td>\n",
       "      <td>...</td>\n",
       "      <td>...</td>\n",
       "      <td>...</td>\n",
       "      <td>...</td>\n",
       "      <td>...</td>\n",
       "      <td>...</td>\n",
       "      <td>...</td>\n",
       "      <td>...</td>\n",
       "      <td>...</td>\n",
       "      <td>...</td>\n",
       "      <td>...</td>\n",
       "      <td>...</td>\n",
       "      <td>...</td>\n",
       "      <td>...</td>\n",
       "      <td>...</td>\n",
       "      <td>...</td>\n",
       "      <td>...</td>\n",
       "      <td>...</td>\n",
       "      <td>...</td>\n",
       "    </tr>\n",
       "    <tr>\n",
       "      <th>50480</th>\n",
       "      <td>118</td>\n",
       "      <td>Senate</td>\n",
       "      <td>40915</td>\n",
       "      <td>56</td>\n",
       "      <td>0.0</td>\n",
       "      <td>WV</td>\n",
       "      <td>100</td>\n",
       "      <td>NaN</td>\n",
       "      <td>NaN</td>\n",
       "      <td>MANCHIN, Joe, III</td>\n",
       "      <td>...</td>\n",
       "      <td>NaN</td>\n",
       "      <td>-0.058</td>\n",
       "      <td>0.407</td>\n",
       "      <td>-37.98553</td>\n",
       "      <td>0.83381</td>\n",
       "      <td>209.0</td>\n",
       "      <td>10.0</td>\n",
       "      <td>NaN</td>\n",
       "      <td>-0.019</td>\n",
       "      <td>0.295</td>\n",
       "    </tr>\n",
       "    <tr>\n",
       "      <th>50481</th>\n",
       "      <td>118</td>\n",
       "      <td>Senate</td>\n",
       "      <td>29940</td>\n",
       "      <td>25</td>\n",
       "      <td>0.0</td>\n",
       "      <td>WI</td>\n",
       "      <td>100</td>\n",
       "      <td>NaN</td>\n",
       "      <td>NaN</td>\n",
       "      <td>BALDWIN, Tammy</td>\n",
       "      <td>...</td>\n",
       "      <td>NaN</td>\n",
       "      <td>-0.492</td>\n",
       "      <td>-0.135</td>\n",
       "      <td>-10.30919</td>\n",
       "      <td>0.95275</td>\n",
       "      <td>213.0</td>\n",
       "      <td>5.0</td>\n",
       "      <td>NaN</td>\n",
       "      <td>-0.425</td>\n",
       "      <td>-0.214</td>\n",
       "    </tr>\n",
       "    <tr>\n",
       "      <th>50482</th>\n",
       "      <td>118</td>\n",
       "      <td>Senate</td>\n",
       "      <td>41111</td>\n",
       "      <td>25</td>\n",
       "      <td>0.0</td>\n",
       "      <td>WI</td>\n",
       "      <td>200</td>\n",
       "      <td>NaN</td>\n",
       "      <td>NaN</td>\n",
       "      <td>JOHNSON, Ron</td>\n",
       "      <td>...</td>\n",
       "      <td>NaN</td>\n",
       "      <td>0.629</td>\n",
       "      <td>-0.145</td>\n",
       "      <td>-21.10066</td>\n",
       "      <td>0.90440</td>\n",
       "      <td>210.0</td>\n",
       "      <td>7.0</td>\n",
       "      <td>NaN</td>\n",
       "      <td>0.698</td>\n",
       "      <td>0.124</td>\n",
       "    </tr>\n",
       "    <tr>\n",
       "      <th>50483</th>\n",
       "      <td>118</td>\n",
       "      <td>Senate</td>\n",
       "      <td>20953</td>\n",
       "      <td>68</td>\n",
       "      <td>0.0</td>\n",
       "      <td>WY</td>\n",
       "      <td>200</td>\n",
       "      <td>NaN</td>\n",
       "      <td>NaN</td>\n",
       "      <td>LUMMIS, Cynthia M.</td>\n",
       "      <td>...</td>\n",
       "      <td>NaN</td>\n",
       "      <td>0.692</td>\n",
       "      <td>-0.340</td>\n",
       "      <td>-23.76128</td>\n",
       "      <td>0.89205</td>\n",
       "      <td>208.0</td>\n",
       "      <td>13.0</td>\n",
       "      <td>NaN</td>\n",
       "      <td>0.785</td>\n",
       "      <td>-0.027</td>\n",
       "    </tr>\n",
       "    <tr>\n",
       "      <th>50484</th>\n",
       "      <td>118</td>\n",
       "      <td>Senate</td>\n",
       "      <td>40707</td>\n",
       "      <td>68</td>\n",
       "      <td>0.0</td>\n",
       "      <td>WY</td>\n",
       "      <td>200</td>\n",
       "      <td>NaN</td>\n",
       "      <td>NaN</td>\n",
       "      <td>BARRASSO, John A.</td>\n",
       "      <td>...</td>\n",
       "      <td>NaN</td>\n",
       "      <td>0.537</td>\n",
       "      <td>0.224</td>\n",
       "      <td>-7.42317</td>\n",
       "      <td>0.95627</td>\n",
       "      <td>166.0</td>\n",
       "      <td>0.0</td>\n",
       "      <td>NaN</td>\n",
       "      <td>0.541</td>\n",
       "      <td>0.603</td>\n",
       "    </tr>\n",
       "  </tbody>\n",
       "</table>\n",
       "<p>50485 rows × 22 columns</p>\n",
       "</div>"
      ],
      "text/plain": [
       "       congress    chamber  icpsr  state_icpsr  district_code state_abbrev  \\\n",
       "0             1  President  99869           99            0.0          USA   \n",
       "1             1      House    379           44            2.0           GA   \n",
       "2             1      House   4854           44            1.0           GA   \n",
       "3             1      House   6071           44            3.0           GA   \n",
       "4             1      House   1538           52            6.0           MD   \n",
       "...         ...        ...    ...          ...            ...          ...   \n",
       "50480       118     Senate  40915           56            0.0           WV   \n",
       "50481       118     Senate  29940           25            0.0           WI   \n",
       "50482       118     Senate  41111           25            0.0           WI   \n",
       "50483       118     Senate  20953           68            0.0           WY   \n",
       "50484       118     Senate  40707           68            0.0           WY   \n",
       "\n",
       "       party_code  occupancy  last_means             bioname  ...    died  \\\n",
       "0            5000        NaN         NaN  WASHINGTON, George  ...     NaN   \n",
       "1            4000        0.0         1.0    BALDWIN, Abraham  ...  1807.0   \n",
       "2            4000        0.0         1.0      JACKSON, James  ...  1806.0   \n",
       "3            4000        0.0         1.0     MATHEWS, George  ...  1812.0   \n",
       "4            5000        0.0         1.0     CARROLL, Daniel  ...  1796.0   \n",
       "...           ...        ...         ...                 ...  ...     ...   \n",
       "50480         100        NaN         NaN   MANCHIN, Joe, III  ...     NaN   \n",
       "50481         100        NaN         NaN      BALDWIN, Tammy  ...     NaN   \n",
       "50482         200        NaN         NaN        JOHNSON, Ron  ...     NaN   \n",
       "50483         200        NaN         NaN  LUMMIS, Cynthia M.  ...     NaN   \n",
       "50484         200        NaN         NaN   BARRASSO, John A.  ...     NaN   \n",
       "\n",
       "       nominate_dim1  nominate_dim2  nominate_log_likelihood  \\\n",
       "0                NaN            NaN                      NaN   \n",
       "1             -0.165         -0.373                -28.55029   \n",
       "2             -0.320         -0.181                -24.89986   \n",
       "3             -0.428         -0.317                -12.62728   \n",
       "4              0.116         -0.740                -23.47008   \n",
       "...              ...            ...                      ...   \n",
       "50480         -0.058          0.407                -37.98553   \n",
       "50481         -0.492         -0.135                -10.30919   \n",
       "50482          0.629         -0.145                -21.10066   \n",
       "50483          0.692         -0.340                -23.76128   \n",
       "50484          0.537          0.224                 -7.42317   \n",
       "\n",
       "       nominate_geo_mean_probability  nominate_number_of_votes  \\\n",
       "0                                NaN                       NaN   \n",
       "1                            0.75800                     103.0   \n",
       "2                            0.77600                      98.0   \n",
       "3                            0.88000                      99.0   \n",
       "4                            0.78300                      96.0   \n",
       "...                              ...                       ...   \n",
       "50480                        0.83381                     209.0   \n",
       "50481                        0.95275                     213.0   \n",
       "50482                        0.90440                     210.0   \n",
       "50483                        0.89205                     208.0   \n",
       "50484                        0.95627                     166.0   \n",
       "\n",
       "       nominate_number_of_errors  conditional  nokken_poole_dim1  \\\n",
       "0                            NaN          NaN                NaN   \n",
       "1                           12.0          NaN             -0.429   \n",
       "2                            9.0          NaN             -0.559   \n",
       "3                            2.0          NaN             -0.413   \n",
       "4                           11.0          NaN              0.114   \n",
       "...                          ...          ...                ...   \n",
       "50480                       10.0          NaN             -0.019   \n",
       "50481                        5.0          NaN             -0.425   \n",
       "50482                        7.0          NaN              0.698   \n",
       "50483                       13.0          NaN              0.785   \n",
       "50484                        0.0          NaN              0.541   \n",
       "\n",
       "       nokken_poole_dim2  \n",
       "0                    NaN  \n",
       "1                 -0.817  \n",
       "2                 -0.052  \n",
       "3                 -0.232  \n",
       "4                 -0.779  \n",
       "...                  ...  \n",
       "50480              0.295  \n",
       "50481             -0.214  \n",
       "50482              0.124  \n",
       "50483             -0.027  \n",
       "50484              0.603  \n",
       "\n",
       "[50485 rows x 22 columns]"
      ]
     },
     "execution_count": 2,
     "metadata": {},
     "output_type": "execute_result"
    }
   ],
   "source": [
    "url = 'https://voteview.com/static/data/out/members/HSall_members.csv'\n",
    "ideology = pd.read_csv(url)\n",
    "ideology"
   ]
  },
  {
   "cell_type": "code",
   "execution_count": 3,
   "id": "f4168cfd-aef7-4694-b163-471bdf4c3cbc",
   "metadata": {},
   "outputs": [
    {
     "data": {
      "text/html": [
       "<div>\n",
       "<style scoped>\n",
       "    .dataframe tbody tr th:only-of-type {\n",
       "        vertical-align: middle;\n",
       "    }\n",
       "\n",
       "    .dataframe tbody tr th {\n",
       "        vertical-align: top;\n",
       "    }\n",
       "\n",
       "    .dataframe thead th {\n",
       "        text-align: right;\n",
       "    }\n",
       "</style>\n",
       "<table border=\"1\" class=\"dataframe\">\n",
       "  <thead>\n",
       "    <tr style=\"text-align: right;\">\n",
       "      <th></th>\n",
       "      <th>0</th>\n",
       "      <th>1</th>\n",
       "      <th>2</th>\n",
       "    </tr>\n",
       "  </thead>\n",
       "  <tbody>\n",
       "    <tr>\n",
       "      <th>congress</th>\n",
       "      <td>1</td>\n",
       "      <td>1</td>\n",
       "      <td>1</td>\n",
       "    </tr>\n",
       "    <tr>\n",
       "      <th>chamber</th>\n",
       "      <td>President</td>\n",
       "      <td>House</td>\n",
       "      <td>House</td>\n",
       "    </tr>\n",
       "    <tr>\n",
       "      <th>icpsr</th>\n",
       "      <td>99869</td>\n",
       "      <td>379</td>\n",
       "      <td>4854</td>\n",
       "    </tr>\n",
       "    <tr>\n",
       "      <th>state_icpsr</th>\n",
       "      <td>99</td>\n",
       "      <td>44</td>\n",
       "      <td>44</td>\n",
       "    </tr>\n",
       "    <tr>\n",
       "      <th>district_code</th>\n",
       "      <td>0.0</td>\n",
       "      <td>2.0</td>\n",
       "      <td>1.0</td>\n",
       "    </tr>\n",
       "    <tr>\n",
       "      <th>state_abbrev</th>\n",
       "      <td>USA</td>\n",
       "      <td>GA</td>\n",
       "      <td>GA</td>\n",
       "    </tr>\n",
       "    <tr>\n",
       "      <th>party_code</th>\n",
       "      <td>5000</td>\n",
       "      <td>4000</td>\n",
       "      <td>4000</td>\n",
       "    </tr>\n",
       "    <tr>\n",
       "      <th>occupancy</th>\n",
       "      <td>NaN</td>\n",
       "      <td>0.0</td>\n",
       "      <td>0.0</td>\n",
       "    </tr>\n",
       "    <tr>\n",
       "      <th>last_means</th>\n",
       "      <td>NaN</td>\n",
       "      <td>1.0</td>\n",
       "      <td>1.0</td>\n",
       "    </tr>\n",
       "    <tr>\n",
       "      <th>bioname</th>\n",
       "      <td>WASHINGTON, George</td>\n",
       "      <td>BALDWIN, Abraham</td>\n",
       "      <td>JACKSON, James</td>\n",
       "    </tr>\n",
       "    <tr>\n",
       "      <th>bioguide_id</th>\n",
       "      <td>NaN</td>\n",
       "      <td>B000084</td>\n",
       "      <td>J000017</td>\n",
       "    </tr>\n",
       "    <tr>\n",
       "      <th>born</th>\n",
       "      <td>NaN</td>\n",
       "      <td>1754.0</td>\n",
       "      <td>1757.0</td>\n",
       "    </tr>\n",
       "    <tr>\n",
       "      <th>died</th>\n",
       "      <td>NaN</td>\n",
       "      <td>1807.0</td>\n",
       "      <td>1806.0</td>\n",
       "    </tr>\n",
       "    <tr>\n",
       "      <th>nominate_dim1</th>\n",
       "      <td>NaN</td>\n",
       "      <td>-0.165</td>\n",
       "      <td>-0.32</td>\n",
       "    </tr>\n",
       "    <tr>\n",
       "      <th>nominate_dim2</th>\n",
       "      <td>NaN</td>\n",
       "      <td>-0.373</td>\n",
       "      <td>-0.181</td>\n",
       "    </tr>\n",
       "    <tr>\n",
       "      <th>nominate_log_likelihood</th>\n",
       "      <td>NaN</td>\n",
       "      <td>-28.55029</td>\n",
       "      <td>-24.89986</td>\n",
       "    </tr>\n",
       "    <tr>\n",
       "      <th>nominate_geo_mean_probability</th>\n",
       "      <td>NaN</td>\n",
       "      <td>0.758</td>\n",
       "      <td>0.776</td>\n",
       "    </tr>\n",
       "    <tr>\n",
       "      <th>nominate_number_of_votes</th>\n",
       "      <td>NaN</td>\n",
       "      <td>103.0</td>\n",
       "      <td>98.0</td>\n",
       "    </tr>\n",
       "    <tr>\n",
       "      <th>nominate_number_of_errors</th>\n",
       "      <td>NaN</td>\n",
       "      <td>12.0</td>\n",
       "      <td>9.0</td>\n",
       "    </tr>\n",
       "    <tr>\n",
       "      <th>conditional</th>\n",
       "      <td>NaN</td>\n",
       "      <td>NaN</td>\n",
       "      <td>NaN</td>\n",
       "    </tr>\n",
       "    <tr>\n",
       "      <th>nokken_poole_dim1</th>\n",
       "      <td>NaN</td>\n",
       "      <td>-0.429</td>\n",
       "      <td>-0.559</td>\n",
       "    </tr>\n",
       "    <tr>\n",
       "      <th>nokken_poole_dim2</th>\n",
       "      <td>NaN</td>\n",
       "      <td>-0.817</td>\n",
       "      <td>-0.052</td>\n",
       "    </tr>\n",
       "  </tbody>\n",
       "</table>\n",
       "</div>"
      ],
      "text/plain": [
       "                                                0                 1  \\\n",
       "congress                                        1                 1   \n",
       "chamber                                 President             House   \n",
       "icpsr                                       99869               379   \n",
       "state_icpsr                                    99                44   \n",
       "district_code                                 0.0               2.0   \n",
       "state_abbrev                                  USA                GA   \n",
       "party_code                                   5000              4000   \n",
       "occupancy                                     NaN               0.0   \n",
       "last_means                                    NaN               1.0   \n",
       "bioname                        WASHINGTON, George  BALDWIN, Abraham   \n",
       "bioguide_id                                   NaN           B000084   \n",
       "born                                          NaN            1754.0   \n",
       "died                                          NaN            1807.0   \n",
       "nominate_dim1                                 NaN            -0.165   \n",
       "nominate_dim2                                 NaN            -0.373   \n",
       "nominate_log_likelihood                       NaN         -28.55029   \n",
       "nominate_geo_mean_probability                 NaN             0.758   \n",
       "nominate_number_of_votes                      NaN             103.0   \n",
       "nominate_number_of_errors                     NaN              12.0   \n",
       "conditional                                   NaN               NaN   \n",
       "nokken_poole_dim1                             NaN            -0.429   \n",
       "nokken_poole_dim2                             NaN            -0.817   \n",
       "\n",
       "                                            2  \n",
       "congress                                    1  \n",
       "chamber                                 House  \n",
       "icpsr                                    4854  \n",
       "state_icpsr                                44  \n",
       "district_code                             1.0  \n",
       "state_abbrev                               GA  \n",
       "party_code                               4000  \n",
       "occupancy                                 0.0  \n",
       "last_means                                1.0  \n",
       "bioname                        JACKSON, James  \n",
       "bioguide_id                           J000017  \n",
       "born                                   1757.0  \n",
       "died                                   1806.0  \n",
       "nominate_dim1                           -0.32  \n",
       "nominate_dim2                          -0.181  \n",
       "nominate_log_likelihood             -24.89986  \n",
       "nominate_geo_mean_probability           0.776  \n",
       "nominate_number_of_votes                 98.0  \n",
       "nominate_number_of_errors                 9.0  \n",
       "conditional                               NaN  \n",
       "nokken_poole_dim1                      -0.559  \n",
       "nokken_poole_dim2                      -0.052  "
      ]
     },
     "execution_count": 3,
     "metadata": {},
     "output_type": "execute_result"
    }
   ],
   "source": [
    "# .T can give us the dataframe transpose\n",
    "ideology.head(3).T"
   ]
  },
  {
   "cell_type": "code",
   "execution_count": 4,
   "id": "12c772a7-fc22-404e-bcf2-7c48829894e1",
   "metadata": {},
   "outputs": [
    {
     "name": "stdout",
     "output_type": "stream",
     "text": [
      "<class 'pandas.core.frame.DataFrame'>\n",
      "RangeIndex: 50485 entries, 0 to 50484\n",
      "Data columns (total 22 columns):\n",
      " #   Column                         Non-Null Count  Dtype  \n",
      "---  ------                         --------------  -----  \n",
      " 0   congress                       50485 non-null  int64  \n",
      " 1   chamber                        50485 non-null  object \n",
      " 2   icpsr                          50485 non-null  int64  \n",
      " 3   state_icpsr                    50485 non-null  int64  \n",
      " 4   district_code                  50485 non-null  float64\n",
      " 5   state_abbrev                   50485 non-null  object \n",
      " 6   party_code                     50485 non-null  int64  \n",
      " 7   occupancy                      48213 non-null  float64\n",
      " 8   last_means                     48213 non-null  float64\n",
      " 9   bioname                        50485 non-null  object \n",
      " 10  bioguide_id                    50418 non-null  object \n",
      " 11  born                           50214 non-null  float64\n",
      " 12  died                           40705 non-null  float64\n",
      " 13  nominate_dim1                  50264 non-null  float64\n",
      " 14  nominate_dim2                  50264 non-null  float64\n",
      " 15  nominate_log_likelihood        49255 non-null  float64\n",
      " 16  nominate_geo_mean_probability  49255 non-null  float64\n",
      " 17  nominate_number_of_votes       49255 non-null  float64\n",
      " 18  nominate_number_of_errors      49255 non-null  float64\n",
      " 19  conditional                    0 non-null      float64\n",
      " 20  nokken_poole_dim1              50019 non-null  float64\n",
      " 21  nokken_poole_dim2              50019 non-null  float64\n",
      "dtypes: float64(14), int64(4), object(4)\n",
      "memory usage: 8.5+ MB\n"
     ]
    }
   ],
   "source": [
    "# describe gives summary info for the numerical values\n",
    "# .info gives datatypes and counts\n",
    "ideology.info()"
   ]
  },
  {
   "cell_type": "code",
   "execution_count": 6,
   "id": "5312c5a7-5ad5-4b2a-9272-eec656957497",
   "metadata": {},
   "outputs": [
    {
     "data": {
      "application/vnd.jupyter.widget-view+json": {
       "model_id": "db85c00a69e74acdabec9fc26cb552e7",
       "version_major": 2,
       "version_minor": 0
      },
      "text/plain": [
       "Summarize dataset:   0%|          | 0/5 [00:00<?, ?it/s]"
      ]
     },
     "metadata": {},
     "output_type": "display_data"
    },
    {
     "data": {
      "application/vnd.jupyter.widget-view+json": {
       "model_id": "08aa68287cb343548fa41cccfb9b2326",
       "version_major": 2,
       "version_minor": 0
      },
      "text/plain": [
       "Generate report structure:   0%|          | 0/1 [00:00<?, ?it/s]"
      ]
     },
     "metadata": {},
     "output_type": "display_data"
    },
    {
     "data": {
      "application/vnd.jupyter.widget-view+json": {
       "model_id": "93bc734801f94c03bf375b5dc947bbc2",
       "version_major": 2,
       "version_minor": 0
      },
      "text/plain": [
       "Render HTML:   0%|          | 0/1 [00:00<?, ?it/s]"
      ]
     },
     "metadata": {},
     "output_type": "display_data"
    },
    {
     "data": {
      "application/vnd.jupyter.widget-view+json": {
       "model_id": "bae1be1806554f798e0a14bb1988cf35",
       "version_major": 2,
       "version_minor": 0
      },
      "text/plain": [
       "Export report to file:   0%|          | 0/1 [00:00<?, ?it/s]"
      ]
     },
     "metadata": {},
     "output_type": "display_data"
    }
   ],
   "source": [
    "profile = ProfileReport(ideology,\n",
    "                        title = 'Congressional Ideology Data',\n",
    "                        html = {'style': {'full_width': True}},\n",
    "                        minimal = True\n",
    "                        )\n",
    "# to_notebook_iframe() allows for a good view in the notebook\n",
    "profile.to_file('congress_ideology.html')"
   ]
  },
  {
   "cell_type": "code",
   "execution_count": 7,
   "id": "37c93293-6af9-45ca-9882-ae43772a9abe",
   "metadata": {},
   "outputs": [
    {
     "name": "stderr",
     "output_type": "stream",
     "text": [
      "/tmp/ipykernel_106/925463690.py:2: DtypeWarning: Columns (14,15,16,17) have mixed types. Specify dtype option on import or set low_memory=False.\n",
      "  votes = pd.read_csv(url)\n"
     ]
    }
   ],
   "source": [
    "url = 'https://voteview.com/static/data/out/rollcalls/HSall_rollcalls.csv'\n",
    "votes = pd.read_csv(url)"
   ]
  },
  {
   "cell_type": "code",
   "execution_count": 8,
   "id": "8a1d9bb6-981c-4beb-be3d-60e8560dee50",
   "metadata": {},
   "outputs": [
    {
     "data": {
      "application/vnd.jupyter.widget-view+json": {
       "model_id": "b7cc16cdc6e940c48fe4b2b0c9165413",
       "version_major": 2,
       "version_minor": 0
      },
      "text/plain": [
       "Summarize dataset:   0%|          | 0/5 [00:00<?, ?it/s]"
      ]
     },
     "metadata": {},
     "output_type": "display_data"
    },
    {
     "data": {
      "application/vnd.jupyter.widget-view+json": {
       "model_id": "c1104759d8124ecc96e23e64bfa7f23d",
       "version_major": 2,
       "version_minor": 0
      },
      "text/plain": [
       "Generate report structure:   0%|          | 0/1 [00:00<?, ?it/s]"
      ]
     },
     "metadata": {},
     "output_type": "display_data"
    },
    {
     "data": {
      "application/vnd.jupyter.widget-view+json": {
       "model_id": "14fbe6bee8044a8f8f1c1d7655c5961b",
       "version_major": 2,
       "version_minor": 0
      },
      "text/plain": [
       "Render HTML:   0%|          | 0/1 [00:00<?, ?it/s]"
      ]
     },
     "metadata": {},
     "output_type": "display_data"
    },
    {
     "data": {
      "application/vnd.jupyter.widget-view+json": {
       "model_id": "4ee956d2e95247519553c3b5f96a341b",
       "version_major": 2,
       "version_minor": 0
      },
      "text/plain": [
       "Export report to file:   0%|          | 0/1 [00:00<?, ?it/s]"
      ]
     },
     "metadata": {},
     "output_type": "display_data"
    }
   ],
   "source": [
    "profile = ProfileReport(votes,\n",
    "                        title = 'Congressional Vote MetaData',\n",
    "                        html = {'style': {'full_width': True}},\n",
    "                        minimal = True\n",
    "                        )\n",
    "# to_notebook_iframe() allows for a good view in the notebook\n",
    "profile.to_file('congress_votes.html')"
   ]
  },
  {
   "cell_type": "code",
   "execution_count": 9,
   "id": "6a841ec7-6fe4-41a9-801e-737abd48f0a0",
   "metadata": {},
   "outputs": [],
   "source": [
    "url = 'https://voteview.com/static/data/out/votes/HSall_votes.csv'\n",
    "member_votes = pd.read_csv(url)"
   ]
  },
  {
   "cell_type": "code",
   "execution_count": 10,
   "id": "ddd1e24a-54ae-4b14-9659-0f7397dbdd35",
   "metadata": {},
   "outputs": [
    {
     "data": {
      "application/vnd.jupyter.widget-view+json": {
       "model_id": "ae97e50ba8734656ac5c7dd0cd92701c",
       "version_major": 2,
       "version_minor": 0
      },
      "text/plain": [
       "Summarize dataset:   0%|          | 0/5 [00:00<?, ?it/s]"
      ]
     },
     "metadata": {},
     "output_type": "display_data"
    },
    {
     "data": {
      "application/vnd.jupyter.widget-view+json": {
       "model_id": "fd032150ae2d44b3a7909bdae29ca0a7",
       "version_major": 2,
       "version_minor": 0
      },
      "text/plain": [
       "Generate report structure:   0%|          | 0/1 [00:00<?, ?it/s]"
      ]
     },
     "metadata": {},
     "output_type": "display_data"
    },
    {
     "data": {
      "application/vnd.jupyter.widget-view+json": {
       "model_id": "c374b9f1379444c08997457e0ae94fd5",
       "version_major": 2,
       "version_minor": 0
      },
      "text/plain": [
       "Render HTML:   0%|          | 0/1 [00:00<?, ?it/s]"
      ]
     },
     "metadata": {},
     "output_type": "display_data"
    },
    {
     "data": {
      "application/vnd.jupyter.widget-view+json": {
       "model_id": "6803dec03cfd49aeb206aa94db905f8b",
       "version_major": 2,
       "version_minor": 0
      },
      "text/plain": [
       "Export report to file:   0%|          | 0/1 [00:00<?, ?it/s]"
      ]
     },
     "metadata": {},
     "output_type": "display_data"
    }
   ],
   "source": [
    "profile = ProfileReport(member_votes,\n",
    "                        title = 'Member Vote Data',\n",
    "                        html = {'style': {'full_width': True}},\n",
    "                        minimal = True\n",
    "                        )\n",
    "# to_notebook_iframe() allows for a good view in the notebook\n",
    "profile.to_file('member_votes.html')"
   ]
  },
  {
   "cell_type": "code",
   "execution_count": 12,
   "id": "458cbeec-15cb-4b64-8da2-fce461bea06f",
   "metadata": {},
   "outputs": [],
   "source": [
    "election = pd.read_csv('1976-2022-house.tab', delimiter = '\\t')"
   ]
  },
  {
   "cell_type": "code",
   "execution_count": 13,
   "id": "a1862f37-de2a-4e7b-9353-b462f9bfde74",
   "metadata": {},
   "outputs": [
    {
     "data": {
      "application/vnd.jupyter.widget-view+json": {
       "model_id": "f6e632f1623243638b47152d7d312cd5",
       "version_major": 2,
       "version_minor": 0
      },
      "text/plain": [
       "Summarize dataset:   0%|          | 0/5 [00:00<?, ?it/s]"
      ]
     },
     "metadata": {},
     "output_type": "display_data"
    },
    {
     "data": {
      "application/vnd.jupyter.widget-view+json": {
       "model_id": "c5471cb3cfd94d40bd9e3b4d3cccdb51",
       "version_major": 2,
       "version_minor": 0
      },
      "text/plain": [
       "Generate report structure:   0%|          | 0/1 [00:00<?, ?it/s]"
      ]
     },
     "metadata": {},
     "output_type": "display_data"
    },
    {
     "data": {
      "application/vnd.jupyter.widget-view+json": {
       "model_id": "7f945e0a779d43cda7315d287994e522",
       "version_major": 2,
       "version_minor": 0
      },
      "text/plain": [
       "Render HTML:   0%|          | 0/1 [00:00<?, ?it/s]"
      ]
     },
     "metadata": {},
     "output_type": "display_data"
    },
    {
     "data": {
      "application/vnd.jupyter.widget-view+json": {
       "model_id": "63051210107c4e5b8429a22daaeb1cbf",
       "version_major": 2,
       "version_minor": 0
      },
      "text/plain": [
       "Export report to file:   0%|          | 0/1 [00:00<?, ?it/s]"
      ]
     },
     "metadata": {},
     "output_type": "display_data"
    }
   ],
   "source": [
    "profile = ProfileReport(election,\n",
    "                        title = 'House of Representatives Election Data',\n",
    "                        html = {'style': {'full_width': True}},\n",
    "                        minimal = True\n",
    "                        )\n",
    "# to_notebook_iframe() allows for a good view in the notebook\n",
    "profile.to_file('elections_house.html')"
   ]
  }
 ],
 "metadata": {
  "kernelspec": {
   "display_name": "Python 3 (ipykernel)",
   "language": "python",
   "name": "python3"
  },
  "language_info": {
   "codemirror_mode": {
    "name": "ipython",
    "version": 3
   },
   "file_extension": ".py",
   "mimetype": "text/x-python",
   "name": "python",
   "nbconvert_exporter": "python",
   "pygments_lexer": "ipython3",
   "version": "3.11.4"
  }
 },
 "nbformat": 4,
 "nbformat_minor": 5
}
