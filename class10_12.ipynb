{
 "cells": [
  {
   "cell_type": "code",
   "execution_count": 1,
   "id": "ab353e92-5f13-4c71-84b7-684b447bbab7",
   "metadata": {},
   "outputs": [],
   "source": [
    "import numpy as np\n",
    "import pandas as pd\n",
    "import requests\n",
    "import json\n",
    "import os "
   ]
  },
  {
   "cell_type": "code",
   "execution_count": 2,
   "id": "21c66ae4-e610-43aa-86f3-7372f6c3a398",
   "metadata": {},
   "outputs": [],
   "source": [
    "opensecretsapi = os.getenv('opensecretsapi')\n",
    "r = requests.get('https://httpbin.org/user-agent')\n",
    "useragent = json.loads(r.text)['user-agent']"
   ]
  },
  {
   "cell_type": "code",
   "execution_count": 8,
   "id": "827be647-2692-479b-a67e-28c96c788294",
   "metadata": {},
   "outputs": [],
   "source": [
    "headers = {'user_agent': useragent,\n",
    "            'From': 'ean8fr@virginia.edu'}"
   ]
  },
  {
   "cell_type": "markdown",
   "id": "65c04e4e-e4c9-410b-8956-ac377e4f279c",
   "metadata": {},
   "source": [
    " * Voteview:\n",
    "   * Votes: https://voteview.com/articles/data_help_votes\n",
    "   * Ideology: https://voteview.com/articles/data_help_members\n",
    " * Open Secrets:\n",
    "   * Contributions: https://www.opensecrets.org/api/?method=candContrib&output=doc\n",
    "   * Candidate info: https://www.opensecrets.org/api/?method=getLegislators&output=doc\n",
    " * Congress API:\n",
    "   * Member info: https://api.congress.gov/#/member/member_list\n",
    "   * Bill info (specifically, who sponsored the bill): https://api.congress.gov/#/bill/bill_details"
   ]
  },
  {
   "cell_type": "markdown",
   "id": "980db661-0802-4a01-8180-5867e7e774aa",
   "metadata": {},
   "source": [
    "## Problem 1\n",
    "For each, identify what features in the data identify a member of Congress. How can we use the ids to match data about the same member of congress acorss all 6 datasets?\n",
    "\n",
    "* Voteview:\n",
    "    * Votes:\n",
    "        * icpsr\n",
    "    * Ideology:\n",
    "        * icpsr, bioguide ID\n",
    "* Open Secrets:\n",
    "    * Contributions:\n",
    "        * CID\n",
    "    * Candidate info:\n",
    "        * CID, bioguide_id\n",
    "* Congress API\n",
    "    * Member\n",
    "        * bioguide_id\n",
    "    * Bill Info\n",
    "        * sponsor -> bioguide_id\n",
    " "
   ]
  },
  {
   "cell_type": "markdown",
   "id": "50612f05-23e4-4500-af16-7e9293fc89d7",
   "metadata": {},
   "source": [
    "## Problem 2\n",
    "Collect all the data from OpenSecretsAPI. Loop over hte states, pull all the data from getLegislators in JSON. Convert the JSON to a pd dataframe."
   ]
  },
  {
   "cell_type": "code",
   "execution_count": 5,
   "id": "e75d0534-4a41-4a69-8b16-da797fb28dce",
   "metadata": {},
   "outputs": [],
   "source": [
    "states = ['AK', 'AL', 'AR', 'AZ', 'CA', 'CO', 'CT', 'DE', 'FL', 'GA', 'HI', 'IA', 'ID', 'IL', 'IN', 'KS', 'KY', 'LA', 'MA', 'MD', 'ME', 'MI', 'MN', 'MO', 'MS', 'MT', 'NC', 'ND', 'NE', 'NH', 'NJ', 'NM', 'NV', 'NY', 'OH', 'OK', 'OR', 'PA', 'RI', 'SC', 'SD', 'TN', 'TX', 'UT', 'VA', 'VT', 'WA', 'WI', 'WV', 'WY']"
   ]
  },
  {
   "cell_type": "code",
   "execution_count": 46,
   "id": "11dae24b-7c04-49ea-9a59-baf7caa47f02",
   "metadata": {},
   "outputs": [
    {
     "name": "stdout",
     "output_type": "stream",
     "text": [
      "AK\n",
      "AL\n",
      "AR\n",
      "AZ\n",
      "CA\n",
      "CO\n",
      "CT\n",
      "DE\n",
      "FL\n",
      "GA\n",
      "HI\n",
      "IA\n",
      "ID\n",
      "IL\n",
      "IN\n",
      "KS\n",
      "KY\n",
      "LA\n",
      "MA\n",
      "MD\n",
      "ME\n",
      "MI\n",
      "MN\n",
      "MO\n",
      "MS\n",
      "MT\n",
      "NC\n",
      "ND\n",
      "NE\n",
      "NH\n",
      "NJ\n",
      "NM\n",
      "NV\n",
      "NY\n",
      "OH\n",
      "OK\n",
      "OR\n",
      "PA\n",
      "RI\n",
      "SC\n",
      "SD\n",
      "TN\n",
      "TX\n",
      "UT\n",
      "VA\n",
      "VT\n",
      "WA\n",
      "WI\n",
      "WV\n",
      "WY\n"
     ]
    }
   ],
   "source": [
    "results = pd.DataFrame()\n",
    "for i in range(len(states)):\n",
    "    root = 'http://www.opensecrets.org/api/'\n",
    "    parameters = {'method': 'getLegislators',\n",
    "                 'apikey': opensecretsapi,\n",
    "                 'id': states[i],\n",
    "                 'output': 'json'}\n",
    "    r = requests.get(root, \n",
    "                     params = parameters, \n",
    "                     headers = headers)\n",
    "    \n",
    "    result = json.loads(r.text)\n",
    "    result_list = []\n",
    "    for h in range(len(result['response']['legislator'])):\n",
    "        dictionary = result['response']['legislator'][h]['@attributes']\n",
    "        result_list.append(dictionary)\n",
    "    result = pd.DataFrame.from_dict(result_list)\n",
    "    print(states[i])\n",
    "    results = pd.concat([results, result])"
   ]
  },
  {
   "cell_type": "markdown",
   "id": "cbd02ced-74a5-4386-b3e1-91a9a3a7d0c1",
   "metadata": {},
   "source": [
    "## Problem 3: Bob Good's Top Contributors"
   ]
  },
  {
   "cell_type": "code",
   "execution_count": 56,
   "id": "e7f8835e-cae2-4407-a20e-8683a2d0a7c7",
   "metadata": {},
   "outputs": [
    {
     "data": {
      "text/plain": [
       "'N00045557'"
      ]
     },
     "execution_count": 56,
     "metadata": {},
     "output_type": "execute_result"
    }
   ],
   "source": [
    "cid = results.query(\"lastname == 'Good'\")['cid']\n",
    "cid[4]"
   ]
  },
  {
   "cell_type": "code",
   "execution_count": 70,
   "id": "91520461-6e1b-4e77-856d-3c6292e53a52",
   "metadata": {},
   "outputs": [
    {
     "data": {
      "text/plain": [
       "<Response [200]>"
      ]
     },
     "execution_count": 70,
     "metadata": {},
     "output_type": "execute_result"
    }
   ],
   "source": [
    "# Use bob to obtain the top contribtuors to Bob Good's campaign using candContrib API\n",
    "root = 'http://www.opensecrets.org/api/'\n",
    "parameters = {'method': 'candContrib',\n",
    "                 'apikey': opensecretsapi,\n",
    "                 'cid': cid[4],\n",
    "                  'cycle': '2022',\n",
    "                 'output': 'json'}\n",
    "r = requests.get(root,\n",
    "                params = parameters,\n",
    "                headers = headers)\n",
    "r"
   ]
  },
  {
   "cell_type": "code",
   "execution_count": 71,
   "id": "e4d26d9e-2272-41c9-a478-418b87db1aab",
   "metadata": {},
   "outputs": [],
   "source": [
    "good_contributers = json.loads(r.text)"
   ]
  },
  {
   "cell_type": "code",
   "execution_count": 72,
   "id": "e9e98fb4-abce-4874-8bf8-d1bb2b0a0619",
   "metadata": {},
   "outputs": [],
   "source": [
    "good_contributers = good_contributers['response']['contributors']['contributor']\n",
    "dictionaries = []\n",
    "for h in range(len(good_contributers)):\n",
    "    result = good_contributers[h]['@attributes']\n",
    "    dictionaries.append(result)\n",
    "good_df = pd.DataFrame.from_dict(dictionaries)"
   ]
  },
  {
   "cell_type": "code",
   "execution_count": 79,
   "id": "4eaff8f0-cbd9-430d-b366-a5a32396b876",
   "metadata": {},
   "outputs": [
    {
     "data": {
      "text/html": [
       "<div>\n",
       "<style scoped>\n",
       "    .dataframe tbody tr th:only-of-type {\n",
       "        vertical-align: middle;\n",
       "    }\n",
       "\n",
       "    .dataframe tbody tr th {\n",
       "        vertical-align: top;\n",
       "    }\n",
       "\n",
       "    .dataframe thead th {\n",
       "        text-align: right;\n",
       "    }\n",
       "</style>\n",
       "<table border=\"1\" class=\"dataframe\">\n",
       "  <thead>\n",
       "    <tr style=\"text-align: right;\">\n",
       "      <th></th>\n",
       "      <th>org_name</th>\n",
       "      <th>total</th>\n",
       "      <th>pacs</th>\n",
       "      <th>indivs</th>\n",
       "    </tr>\n",
       "  </thead>\n",
       "  <tbody>\n",
       "    <tr>\n",
       "      <th>0</th>\n",
       "      <td>House Freedom Fund</td>\n",
       "      <td>33200</td>\n",
       "      <td>10000</td>\n",
       "      <td>23200</td>\n",
       "    </tr>\n",
       "    <tr>\n",
       "      <th>1</th>\n",
       "      <td>Rst Marketing</td>\n",
       "      <td>13500</td>\n",
       "      <td>0</td>\n",
       "      <td>13500</td>\n",
       "    </tr>\n",
       "    <tr>\n",
       "      <th>2</th>\n",
       "      <td>Dimensional Fund Advisors</td>\n",
       "      <td>11600</td>\n",
       "      <td>0</td>\n",
       "      <td>11600</td>\n",
       "    </tr>\n",
       "    <tr>\n",
       "      <th>3</th>\n",
       "      <td>Kinsale Capital Group</td>\n",
       "      <td>11600</td>\n",
       "      <td>0</td>\n",
       "      <td>11600</td>\n",
       "    </tr>\n",
       "    <tr>\n",
       "      <th>4</th>\n",
       "      <td>Marcus Foundation</td>\n",
       "      <td>11600</td>\n",
       "      <td>0</td>\n",
       "      <td>11600</td>\n",
       "    </tr>\n",
       "    <tr>\n",
       "      <th>5</th>\n",
       "      <td>Western National Group</td>\n",
       "      <td>11600</td>\n",
       "      <td>0</td>\n",
       "      <td>11600</td>\n",
       "    </tr>\n",
       "    <tr>\n",
       "      <th>6</th>\n",
       "      <td>Majority Cmte PAC</td>\n",
       "      <td>10000</td>\n",
       "      <td>10000</td>\n",
       "      <td>0</td>\n",
       "    </tr>\n",
       "    <tr>\n",
       "      <th>7</th>\n",
       "      <td>Prescott Investors</td>\n",
       "      <td>9108</td>\n",
       "      <td>0</td>\n",
       "      <td>9108</td>\n",
       "    </tr>\n",
       "    <tr>\n",
       "      <th>8</th>\n",
       "      <td>Station Casinos</td>\n",
       "      <td>8324</td>\n",
       "      <td>0</td>\n",
       "      <td>8324</td>\n",
       "    </tr>\n",
       "    <tr>\n",
       "      <th>9</th>\n",
       "      <td>Gun Owners of America</td>\n",
       "      <td>7500</td>\n",
       "      <td>7500</td>\n",
       "      <td>0</td>\n",
       "    </tr>\n",
       "  </tbody>\n",
       "</table>\n",
       "</div>"
      ],
      "text/plain": [
       "                    org_name  total   pacs indivs\n",
       "0         House Freedom Fund  33200  10000  23200\n",
       "1              Rst Marketing  13500      0  13500\n",
       "2  Dimensional Fund Advisors  11600      0  11600\n",
       "3      Kinsale Capital Group  11600      0  11600\n",
       "4          Marcus Foundation  11600      0  11600\n",
       "5     Western National Group  11600      0  11600\n",
       "6          Majority Cmte PAC  10000  10000      0\n",
       "7         Prescott Investors   9108      0   9108\n",
       "8            Station Casinos   8324      0   8324\n",
       "9      Gun Owners of America   7500   7500      0"
      ]
     },
     "execution_count": 79,
     "metadata": {},
     "output_type": "execute_result"
    }
   ],
   "source": [
    "good_df"
   ]
  }
 ],
 "metadata": {
  "kernelspec": {
   "display_name": "Python 3 (ipykernel)",
   "language": "python",
   "name": "python3"
  },
  "language_info": {
   "codemirror_mode": {
    "name": "ipython",
    "version": 3
   },
   "file_extension": ".py",
   "mimetype": "text/x-python",
   "name": "python",
   "nbconvert_exporter": "python",
   "pygments_lexer": "ipython3",
   "version": "3.11.4"
  }
 },
 "nbformat": 4,
 "nbformat_minor": 5
}
