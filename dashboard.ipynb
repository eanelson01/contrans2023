{
 "cells": [
  {
   "cell_type": "code",
   "execution_count": 22,
   "id": "9e56107a-8b25-4d43-88c5-ec106c7f7105",
   "metadata": {},
   "outputs": [],
   "source": [
    "import numpy as np\n",
    "import pandas as pd\n",
    "import dash\n",
    "from dash import dcc\n",
    "from dash import html\n",
    "from dash.dependencies import Input, Output\n",
    "import psycopg2\n",
    "from sqlalchemy import create_engine\n",
    "import os\n",
    "import plotly.figure_factory as ff\n",
    "POSTGRES_PASSWORD = os.getenv('POSTGRES_PASSWORD')"
   ]
  },
  {
   "cell_type": "code",
   "execution_count": 2,
   "id": "49bedde4-0f5a-492e-a932-bef0c6f1a809",
   "metadata": {},
   "outputs": [],
   "source": [
    "engine = create_engine('postgresql+psycopg2://{user}:{password}@{host}:{port}/{db}'.format(\n",
    "    user = 'postgres',\n",
    "    password = POSTGRES_PASSWORD,\n",
    "    host = 'postgres',\n",
    "    port = 5432,\n",
    "    db = 'congress'\n",
    "))"
   ]
  },
  {
   "cell_type": "code",
   "execution_count": 3,
   "id": "e92cc649-3ddc-4879-86cd-d578db01c27a",
   "metadata": {},
   "outputs": [],
   "source": [
    "myquery = '''\n",
    "SELECT directordername, bioguideid\n",
    "FROM members\n",
    "ORDER BY lastname\n",
    "'''\n",
    "members = pd.read_sql_query(myquery, con = engine)\n",
    "member_list = [{'label': x, 'value': y} for x, y in zip(members['directordername'], members['bioguideid'])]"
   ]
  },
  {
   "cell_type": "code",
   "execution_count": 4,
   "id": "2de690b2-a418-4920-b015-90a0a0ba2cb6",
   "metadata": {},
   "outputs": [],
   "source": [
    "external_stylesheets = ['https://codepen.io/chriddyp/pen/bWLwgP.css']"
   ]
  },
  {
   "cell_type": "code",
   "execution_count": 7,
   "id": "22c3046b-4329-48d8-a850-f0a971eda465",
   "metadata": {},
   "outputs": [],
   "source": [
    "mymarkdown = '''\n",
    "Congressional elections are usually all about the big, national issues. But, these Representatives and Senators work for local districts and states. Not all issues are the same everywhere. The purpose of this dashboard is to collect public data from these sources:\n",
    "\n",
    "* [Official API for the U.S. Congress](https://api.congress.gov/)\n",
    "\n",
    "* [Voteview](https://voteview.com/data)\n",
    "\n",
    "* [Open Secrets](https://www.opensecrets.org/open-data/api)\n",
    "\n",
    "* [ProPublica's Data on Bills](https://www.propublica.org/datastore/dataset/congressional-data-bulk-legislation-bills)\n",
    "'''"
   ]
  },
  {
   "cell_type": "code",
   "execution_count": null,
   "id": "ca95606a-7e10-4fea-b5f1-c5032753b611",
   "metadata": {},
   "outputs": [],
   "source": []
  },
  {
   "cell_type": "code",
   "execution_count": 28,
   "id": "846f908e-adcf-4119-ad7e-595602366710",
   "metadata": {},
   "outputs": [
    {
     "data": {
      "text/html": [
       "\n",
       "        <iframe\n",
       "            width=\"100%\"\n",
       "            height=\"650\"\n",
       "            src=\"http://0.0.0.0:8050/\"\n",
       "            frameborder=\"0\"\n",
       "            allowfullscreen\n",
       "            \n",
       "        ></iframe>\n",
       "        "
      ],
      "text/plain": [
       "<IPython.lib.display.IFrame at 0xffff31246e90>"
      ]
     },
     "metadata": {},
     "output_type": "display_data"
    }
   ],
   "source": [
    "# initialization step\n",
    "app = dash.Dash(__name__, external_stylesheets=external_stylesheets)\n",
    "\n",
    "# specification of what goes on\n",
    "app.layout = html.Div(\n",
    "    [\n",
    "        # Stuff on Top\n",
    "        html.H1(\"Know Your Representatives in Congress\"),\n",
    "        html.H2(\"Data collected from APIs from Congress.gov, Open Secrets, Voteview.com, and ProPublica\"),\n",
    "        html.H3(\"DS 6600: Data Engineering 1, UVA Data Science\"),\n",
    "        # Side Bar\n",
    "        html.Div([\n",
    "            dcc.Markdown('Please select a Representative or Senator:'),\n",
    "            dcc.Dropdown(id = 'member', options = member_list,\n",
    "                    value = 'A000370'),\n",
    "            dcc.Markdown(mymarkdown)\n",
    "        ], style = {'width': '24%', 'float': 'left'}),\n",
    "        \n",
    "        # Main\n",
    "        html.Div([\n",
    "            dcc.Tabs([\n",
    "                dcc.Tab(label = 'Biographical Info', children = [\n",
    "                    # stuff for bio tab goes here\n",
    "                    dcc.Graph(id='biotable')\n",
    "                ]),\n",
    "                dcc.Tab(label = 'Bill Sponsorship', children = [\n",
    "                    # stuff for Bill Sponsorhip tab goes here\n",
    "                ]),\n",
    "                dcc.Tab(label = 'Voting and Ideology', children = [\n",
    "                    # stuff for Voting tab goes here\n",
    "                ]),\n",
    "                dcc.Tab(label = 'Donors and Financial Info', children = [\n",
    "                    # stuff for Donors tab goes here\n",
    "                ])\n",
    "                \n",
    "            ])\n",
    "        ], style = {'width': '74%', 'float': 'right'})\n",
    "    ]\n",
    ")\n",
    "\n",
    "@app.callback([Output(component_id = 'biotable', component_property = 'figure')],\n",
    "             [Input(component_id = 'member', component_property = 'value')])\n",
    "\n",
    "def BioTable(b):\n",
    "    myquery = f'''\n",
    "    SELECT directordername AS Name, \n",
    "            party AS Party,\n",
    "            state AS State,\n",
    "            CAST(district AS int) AS District,\n",
    "            birthyear AS Birthyear,\n",
    "            addressinformation_officeaddress AS Address,\n",
    "            CONCAT(addressinformation_city, ', ', addressinformation_district) AS City,\n",
    "            addressinformation_zipcode AS Zipcode,\n",
    "            addressinformation_phonenumber AS Phone\n",
    "    FROM members\n",
    "    WHERE bioguideid = '{b}'\n",
    "    '''\n",
    "    \n",
    "    mydf = pd.read_sql_query(myquery, con = engine)\n",
    "    \n",
    "    mydf.columns = [x.capitalize() for x in mydf.columns]\n",
    "    \n",
    "    mydf = mydf.T.reset_index()\n",
    "    \n",
    "    mydf = mydf.rename({'index': '', 0:''}, axis = 1)\n",
    "    \n",
    "    return [ff.create_table(mydf)]\n",
    "\n",
    "# exectuation\n",
    "if __name__ == \"__main__\":\n",
    "    app.run_server(mode=\"external\", host = '0.0.0.0', port = '8050', debug = True)"
   ]
  },
  {
   "cell_type": "code",
   "execution_count": null,
   "id": "75fe1ecd-c1a5-4547-a489-a3d56fd176fe",
   "metadata": {},
   "outputs": [],
   "source": []
  }
 ],
 "metadata": {
  "kernelspec": {
   "display_name": "Python 3 (ipykernel)",
   "language": "python",
   "name": "python3"
  },
  "language_info": {
   "codemirror_mode": {
    "name": "ipython",
    "version": 3
   },
   "file_extension": ".py",
   "mimetype": "text/x-python",
   "name": "python",
   "nbconvert_exporter": "python",
   "pygments_lexer": "ipython3",
   "version": "3.11.4"
  }
 },
 "nbformat": 4,
 "nbformat_minor": 5
}
