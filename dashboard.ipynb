{
 "cells": [
  {
   "cell_type": "code",
   "execution_count": 1,
   "id": "9e56107a-8b25-4d43-88c5-ec106c7f7105",
   "metadata": {},
   "outputs": [],
   "source": [
    "import numpy as np\n",
    "import pandas as pd\n",
    "import dash\n",
    "from dash import dcc\n",
    "from dash import html\n",
    "from dash.dependencies import Input, Output\n",
    "import psycopg2\n",
    "from sqlalchemy import create_engine\n",
    "import os\n",
    "import plotly.figure_factory as ff\n",
    "import plotly.express as px\n",
    "POSTGRES_PASSWORD = os.getenv('POSTGRES_PASSWORD')"
   ]
  },
  {
   "cell_type": "code",
   "execution_count": 2,
   "id": "49bedde4-0f5a-492e-a932-bef0c6f1a809",
   "metadata": {},
   "outputs": [],
   "source": [
    "engine = create_engine('postgresql+psycopg2://{user}:{password}@{host}:{port}/{db}'.format(\n",
    "    user = 'postgres',\n",
    "    password = POSTGRES_PASSWORD,\n",
    "    host = 'postgres',\n",
    "    port = 5432,\n",
    "    db = 'congress'\n",
    "))"
   ]
  },
  {
   "cell_type": "code",
   "execution_count": 3,
   "id": "e92cc649-3ddc-4879-86cd-d578db01c27a",
   "metadata": {},
   "outputs": [],
   "source": [
    "myquery = '''\n",
    "SELECT directordername, bioguideid\n",
    "FROM members\n",
    "ORDER BY lastname\n",
    "'''\n",
    "members = pd.read_sql_query(myquery, con = engine)\n",
    "member_list = [{'label': x, 'value': y} for x, y in zip(members['directordername'], members['bioguideid'])]"
   ]
  },
  {
   "cell_type": "code",
   "execution_count": 4,
   "id": "184e79f4-bc5c-48ce-a3a5-bdb7d6084c9a",
   "metadata": {},
   "outputs": [
    {
     "data": {
      "text/html": [
       "<div>\n",
       "<style scoped>\n",
       "    .dataframe tbody tr th:only-of-type {\n",
       "        vertical-align: middle;\n",
       "    }\n",
       "\n",
       "    .dataframe tbody tr th {\n",
       "        vertical-align: top;\n",
       "    }\n",
       "\n",
       "    .dataframe thead th {\n",
       "        text-align: right;\n",
       "    }\n",
       "</style>\n",
       "<table border=\"1\" class=\"dataframe\">\n",
       "  <thead>\n",
       "    <tr style=\"text-align: right;\">\n",
       "      <th></th>\n",
       "      <th>bioguideid</th>\n",
       "      <th>directordername</th>\n",
       "      <th>party</th>\n",
       "      <th>ideology</th>\n",
       "      <th>state</th>\n",
       "      <th>district</th>\n",
       "      <th>chamber</th>\n",
       "    </tr>\n",
       "  </thead>\n",
       "  <tbody>\n",
       "    <tr>\n",
       "      <th>0</th>\n",
       "      <td>B000944</td>\n",
       "      <td>Sherrod Brown</td>\n",
       "      <td>D</td>\n",
       "      <td>-0.427</td>\n",
       "      <td>Ohio</td>\n",
       "      <td>NaN</td>\n",
       "      <td>Senate</td>\n",
       "    </tr>\n",
       "    <tr>\n",
       "      <th>1</th>\n",
       "      <td>C000127</td>\n",
       "      <td>Maria Cantwell</td>\n",
       "      <td>D</td>\n",
       "      <td>-0.305</td>\n",
       "      <td>Washington</td>\n",
       "      <td>NaN</td>\n",
       "      <td>Senate</td>\n",
       "    </tr>\n",
       "    <tr>\n",
       "      <th>2</th>\n",
       "      <td>C000141</td>\n",
       "      <td>Benjamin L. Cardin</td>\n",
       "      <td>D</td>\n",
       "      <td>-0.320</td>\n",
       "      <td>Maryland</td>\n",
       "      <td>NaN</td>\n",
       "      <td>Senate</td>\n",
       "    </tr>\n",
       "    <tr>\n",
       "      <th>3</th>\n",
       "      <td>C000174</td>\n",
       "      <td>Thomas R. Carper</td>\n",
       "      <td>D</td>\n",
       "      <td>-0.178</td>\n",
       "      <td>Delaware</td>\n",
       "      <td>NaN</td>\n",
       "      <td>Senate</td>\n",
       "    </tr>\n",
       "    <tr>\n",
       "      <th>4</th>\n",
       "      <td>C001070</td>\n",
       "      <td>Robert P. Casey Jr.</td>\n",
       "      <td>D</td>\n",
       "      <td>-0.313</td>\n",
       "      <td>Pennsylvania</td>\n",
       "      <td>NaN</td>\n",
       "      <td>Senate</td>\n",
       "    </tr>\n",
       "    <tr>\n",
       "      <th>...</th>\n",
       "      <td>...</td>\n",
       "      <td>...</td>\n",
       "      <td>...</td>\n",
       "      <td>...</td>\n",
       "      <td>...</td>\n",
       "      <td>...</td>\n",
       "      <td>...</td>\n",
       "    </tr>\n",
       "    <tr>\n",
       "      <th>525</th>\n",
       "      <td>G000600</td>\n",
       "      <td>Marie Gluesenkamp Perez</td>\n",
       "      <td>D</td>\n",
       "      <td>-0.115</td>\n",
       "      <td>Washington</td>\n",
       "      <td>3.0</td>\n",
       "      <td>House of Representatives</td>\n",
       "    </tr>\n",
       "    <tr>\n",
       "      <th>526</th>\n",
       "      <td>V000135</td>\n",
       "      <td>Derrick Van Orden</td>\n",
       "      <td>R</td>\n",
       "      <td>0.381</td>\n",
       "      <td>Wisconsin</td>\n",
       "      <td>3.0</td>\n",
       "      <td>House of Representatives</td>\n",
       "    </tr>\n",
       "    <tr>\n",
       "      <th>527</th>\n",
       "      <td>H001096</td>\n",
       "      <td>Harriet M. Hageman</td>\n",
       "      <td>R</td>\n",
       "      <td>0.688</td>\n",
       "      <td>Wyoming</td>\n",
       "      <td>NaN</td>\n",
       "      <td>Senate</td>\n",
       "    </tr>\n",
       "    <tr>\n",
       "      <th>528</th>\n",
       "      <td>R000618</td>\n",
       "      <td>Pete Ricketts</td>\n",
       "      <td>R</td>\n",
       "      <td>0.369</td>\n",
       "      <td>Nebraska</td>\n",
       "      <td>NaN</td>\n",
       "      <td>Senate</td>\n",
       "    </tr>\n",
       "    <tr>\n",
       "      <th>529</th>\n",
       "      <td>M001227</td>\n",
       "      <td>Jennifer L. McClellan</td>\n",
       "      <td>D</td>\n",
       "      <td>-0.493</td>\n",
       "      <td>Virginia</td>\n",
       "      <td>4.0</td>\n",
       "      <td>House of Representatives</td>\n",
       "    </tr>\n",
       "  </tbody>\n",
       "</table>\n",
       "<p>530 rows × 7 columns</p>\n",
       "</div>"
      ],
      "text/plain": [
       "    bioguideid          directordername party  ideology         state  \\\n",
       "0      B000944            Sherrod Brown     D    -0.427          Ohio   \n",
       "1      C000127           Maria Cantwell     D    -0.305    Washington   \n",
       "2      C000141       Benjamin L. Cardin     D    -0.320      Maryland   \n",
       "3      C000174         Thomas R. Carper     D    -0.178      Delaware   \n",
       "4      C001070      Robert P. Casey Jr.     D    -0.313  Pennsylvania   \n",
       "..         ...                      ...   ...       ...           ...   \n",
       "525    G000600  Marie Gluesenkamp Perez     D    -0.115    Washington   \n",
       "526    V000135        Derrick Van Orden     R     0.381     Wisconsin   \n",
       "527    H001096       Harriet M. Hageman     R     0.688       Wyoming   \n",
       "528    R000618            Pete Ricketts     R     0.369      Nebraska   \n",
       "529    M001227    Jennifer L. McClellan     D    -0.493      Virginia   \n",
       "\n",
       "     district                   chamber  \n",
       "0         NaN                    Senate  \n",
       "1         NaN                    Senate  \n",
       "2         NaN                    Senate  \n",
       "3         NaN                    Senate  \n",
       "4         NaN                    Senate  \n",
       "..        ...                       ...  \n",
       "525       3.0  House of Representatives  \n",
       "526       3.0  House of Representatives  \n",
       "527       NaN                    Senate  \n",
       "528       NaN                    Senate  \n",
       "529       4.0  House of Representatives  \n",
       "\n",
       "[530 rows x 7 columns]"
      ]
     },
     "execution_count": 4,
     "metadata": {},
     "output_type": "execute_result"
    }
   ],
   "source": [
    "# senators don't have districts, we can take advantage of that\n",
    "myquery = '''\n",
    "SELECT bioguideid,\n",
    "    directordername,\n",
    "    party,\n",
    "    ideology,\n",
    "    state,\n",
    "    district\n",
    "FROM members\n",
    "'''\n",
    "ideo_df = pd.read_sql_query(myquery, con = engine)\n",
    "# chamber == True if senator\n",
    "ideo_df['chamber'] = ideo_df['district'].isnull()\n",
    "ideo_df['chamber'] = ideo_df['chamber'].replace({True: 'Senate', False: \n",
    "                                      'House of Representatives'})\n",
    "ideo_df"
   ]
  },
  {
   "cell_type": "code",
   "execution_count": 5,
   "id": "8dce2675-231a-4069-9e63-d387a9a3d48f",
   "metadata": {},
   "outputs": [],
   "source": [
    "# getting the full info\n",
    "ideo_df['namedistrict'] = [n + ' (' + s + ')'  if c == 'Senate' \n",
    "     else n + ' (' + s + '-' + str(int(d)) + ')' \n",
    " for n,s,c,d in zip(ideo_df['directordername'], ideo_df['state'], ideo_df['chamber'], ideo_df['district'])]\n",
    "ideo_df['party'] = ideo_df['party'].replace({'D': 'Democrat',\n",
    "                                            'I': 'Independent',\n",
    "                                            'R': 'Republican'})\n",
    "\n",
    "# example query for the star\n",
    "userbioguideid = 'G000595'\n",
    "ideo2 = ideo_df.query(f\"bioguideid == '{userbioguideid}'\")"
   ]
  },
  {
   "cell_type": "code",
   "execution_count": 6,
   "id": "d49947f4-739a-488a-bc52-f12c2b7fb9da",
   "metadata": {},
   "outputs": [
    {
     "data": {
      "text/html": [
       "<div>\n",
       "<style scoped>\n",
       "    .dataframe tbody tr th:only-of-type {\n",
       "        vertical-align: middle;\n",
       "    }\n",
       "\n",
       "    .dataframe tbody tr th {\n",
       "        vertical-align: top;\n",
       "    }\n",
       "\n",
       "    .dataframe thead th {\n",
       "        text-align: right;\n",
       "    }\n",
       "</style>\n",
       "<table border=\"1\" class=\"dataframe\">\n",
       "  <thead>\n",
       "    <tr style=\"text-align: right;\">\n",
       "      <th></th>\n",
       "      <th>bioguideid</th>\n",
       "      <th>directordername</th>\n",
       "      <th>party</th>\n",
       "      <th>ideology</th>\n",
       "      <th>state</th>\n",
       "      <th>district</th>\n",
       "      <th>chamber</th>\n",
       "      <th>namedistrict</th>\n",
       "    </tr>\n",
       "  </thead>\n",
       "  <tbody>\n",
       "    <tr>\n",
       "      <th>0</th>\n",
       "      <td>B000944</td>\n",
       "      <td>Sherrod Brown</td>\n",
       "      <td>Democrat</td>\n",
       "      <td>-0.427</td>\n",
       "      <td>Ohio</td>\n",
       "      <td>NaN</td>\n",
       "      <td>Senate</td>\n",
       "      <td>Sherrod Brown (Ohio)</td>\n",
       "    </tr>\n",
       "    <tr>\n",
       "      <th>1</th>\n",
       "      <td>C000127</td>\n",
       "      <td>Maria Cantwell</td>\n",
       "      <td>Democrat</td>\n",
       "      <td>-0.305</td>\n",
       "      <td>Washington</td>\n",
       "      <td>NaN</td>\n",
       "      <td>Senate</td>\n",
       "      <td>Maria Cantwell (Washington)</td>\n",
       "    </tr>\n",
       "    <tr>\n",
       "      <th>2</th>\n",
       "      <td>C000141</td>\n",
       "      <td>Benjamin L. Cardin</td>\n",
       "      <td>Democrat</td>\n",
       "      <td>-0.320</td>\n",
       "      <td>Maryland</td>\n",
       "      <td>NaN</td>\n",
       "      <td>Senate</td>\n",
       "      <td>Benjamin L. Cardin (Maryland)</td>\n",
       "    </tr>\n",
       "    <tr>\n",
       "      <th>3</th>\n",
       "      <td>C000174</td>\n",
       "      <td>Thomas R. Carper</td>\n",
       "      <td>Democrat</td>\n",
       "      <td>-0.178</td>\n",
       "      <td>Delaware</td>\n",
       "      <td>NaN</td>\n",
       "      <td>Senate</td>\n",
       "      <td>Thomas R. Carper (Delaware)</td>\n",
       "    </tr>\n",
       "    <tr>\n",
       "      <th>4</th>\n",
       "      <td>C001070</td>\n",
       "      <td>Robert P. Casey Jr.</td>\n",
       "      <td>Democrat</td>\n",
       "      <td>-0.313</td>\n",
       "      <td>Pennsylvania</td>\n",
       "      <td>NaN</td>\n",
       "      <td>Senate</td>\n",
       "      <td>Robert P. Casey Jr. (Pennsylvania)</td>\n",
       "    </tr>\n",
       "    <tr>\n",
       "      <th>...</th>\n",
       "      <td>...</td>\n",
       "      <td>...</td>\n",
       "      <td>...</td>\n",
       "      <td>...</td>\n",
       "      <td>...</td>\n",
       "      <td>...</td>\n",
       "      <td>...</td>\n",
       "      <td>...</td>\n",
       "    </tr>\n",
       "    <tr>\n",
       "      <th>525</th>\n",
       "      <td>G000600</td>\n",
       "      <td>Marie Gluesenkamp Perez</td>\n",
       "      <td>Democrat</td>\n",
       "      <td>-0.115</td>\n",
       "      <td>Washington</td>\n",
       "      <td>3.0</td>\n",
       "      <td>House of Representatives</td>\n",
       "      <td>Marie Gluesenkamp Perez (Washington-3)</td>\n",
       "    </tr>\n",
       "    <tr>\n",
       "      <th>526</th>\n",
       "      <td>V000135</td>\n",
       "      <td>Derrick Van Orden</td>\n",
       "      <td>Republican</td>\n",
       "      <td>0.381</td>\n",
       "      <td>Wisconsin</td>\n",
       "      <td>3.0</td>\n",
       "      <td>House of Representatives</td>\n",
       "      <td>Derrick Van Orden (Wisconsin-3)</td>\n",
       "    </tr>\n",
       "    <tr>\n",
       "      <th>527</th>\n",
       "      <td>H001096</td>\n",
       "      <td>Harriet M. Hageman</td>\n",
       "      <td>Republican</td>\n",
       "      <td>0.688</td>\n",
       "      <td>Wyoming</td>\n",
       "      <td>NaN</td>\n",
       "      <td>Senate</td>\n",
       "      <td>Harriet M. Hageman (Wyoming)</td>\n",
       "    </tr>\n",
       "    <tr>\n",
       "      <th>528</th>\n",
       "      <td>R000618</td>\n",
       "      <td>Pete Ricketts</td>\n",
       "      <td>Republican</td>\n",
       "      <td>0.369</td>\n",
       "      <td>Nebraska</td>\n",
       "      <td>NaN</td>\n",
       "      <td>Senate</td>\n",
       "      <td>Pete Ricketts (Nebraska)</td>\n",
       "    </tr>\n",
       "    <tr>\n",
       "      <th>529</th>\n",
       "      <td>M001227</td>\n",
       "      <td>Jennifer L. McClellan</td>\n",
       "      <td>Democrat</td>\n",
       "      <td>-0.493</td>\n",
       "      <td>Virginia</td>\n",
       "      <td>4.0</td>\n",
       "      <td>House of Representatives</td>\n",
       "      <td>Jennifer L. McClellan (Virginia-4)</td>\n",
       "    </tr>\n",
       "  </tbody>\n",
       "</table>\n",
       "<p>530 rows × 8 columns</p>\n",
       "</div>"
      ],
      "text/plain": [
       "    bioguideid          directordername       party  ideology         state  \\\n",
       "0      B000944            Sherrod Brown    Democrat    -0.427          Ohio   \n",
       "1      C000127           Maria Cantwell    Democrat    -0.305    Washington   \n",
       "2      C000141       Benjamin L. Cardin    Democrat    -0.320      Maryland   \n",
       "3      C000174         Thomas R. Carper    Democrat    -0.178      Delaware   \n",
       "4      C001070      Robert P. Casey Jr.    Democrat    -0.313  Pennsylvania   \n",
       "..         ...                      ...         ...       ...           ...   \n",
       "525    G000600  Marie Gluesenkamp Perez    Democrat    -0.115    Washington   \n",
       "526    V000135        Derrick Van Orden  Republican     0.381     Wisconsin   \n",
       "527    H001096       Harriet M. Hageman  Republican     0.688       Wyoming   \n",
       "528    R000618            Pete Ricketts  Republican     0.369      Nebraska   \n",
       "529    M001227    Jennifer L. McClellan    Democrat    -0.493      Virginia   \n",
       "\n",
       "     district                   chamber  \\\n",
       "0         NaN                    Senate   \n",
       "1         NaN                    Senate   \n",
       "2         NaN                    Senate   \n",
       "3         NaN                    Senate   \n",
       "4         NaN                    Senate   \n",
       "..        ...                       ...   \n",
       "525       3.0  House of Representatives   \n",
       "526       3.0  House of Representatives   \n",
       "527       NaN                    Senate   \n",
       "528       NaN                    Senate   \n",
       "529       4.0  House of Representatives   \n",
       "\n",
       "                               namedistrict  \n",
       "0                      Sherrod Brown (Ohio)  \n",
       "1               Maria Cantwell (Washington)  \n",
       "2             Benjamin L. Cardin (Maryland)  \n",
       "3               Thomas R. Carper (Delaware)  \n",
       "4        Robert P. Casey Jr. (Pennsylvania)  \n",
       "..                                      ...  \n",
       "525  Marie Gluesenkamp Perez (Washington-3)  \n",
       "526         Derrick Van Orden (Wisconsin-3)  \n",
       "527            Harriet M. Hageman (Wyoming)  \n",
       "528                Pete Ricketts (Nebraska)  \n",
       "529      Jennifer L. McClellan (Virginia-4)  \n",
       "\n",
       "[530 rows x 8 columns]"
      ]
     },
     "execution_count": 6,
     "metadata": {},
     "output_type": "execute_result"
    }
   ],
   "source": [
    "ideo_df"
   ]
  },
  {
   "cell_type": "code",
   "execution_count": 7,
   "id": "2de690b2-a418-4920-b015-90a0a0ba2cb6",
   "metadata": {},
   "outputs": [],
   "source": [
    "external_stylesheets = ['https://codepen.io/chriddyp/pen/bWLwgP.css']"
   ]
  },
  {
   "cell_type": "code",
   "execution_count": 8,
   "id": "22c3046b-4329-48d8-a850-f0a971eda465",
   "metadata": {},
   "outputs": [],
   "source": [
    "mymarkdown = '''\n",
    "Congressional elections are usually all about the big, national issues. But, these Representatives and Senators work for local districts and states. Not all issues are the same everywhere. The purpose of this dashboard is to collect public data from these sources:\n",
    "\n",
    "* [Official API for the U.S. Congress](https://api.congress.gov/)\n",
    "\n",
    "* [Voteview](https://voteview.com/data)\n",
    "\n",
    "* [Open Secrets](https://www.opensecrets.org/open-data/api)\n",
    "\n",
    "* [ProPublica's Data on Bills](https://www.propublica.org/datastore/dataset/congressional-data-bulk-legislation-bills)\n",
    "'''"
   ]
  },
  {
   "cell_type": "code",
   "execution_count": null,
   "id": "ca95606a-7e10-4fea-b5f1-c5032753b611",
   "metadata": {},
   "outputs": [],
   "source": []
  },
  {
   "cell_type": "code",
   "execution_count": 45,
   "id": "846f908e-adcf-4119-ad7e-595602366710",
   "metadata": {},
   "outputs": [
    {
     "data": {
      "text/html": [
       "\n",
       "        <iframe\n",
       "            width=\"100%\"\n",
       "            height=\"650\"\n",
       "            src=\"http://0.0.0.0:8050/\"\n",
       "            frameborder=\"0\"\n",
       "            allowfullscreen\n",
       "            \n",
       "        ></iframe>\n",
       "        "
      ],
      "text/plain": [
       "<IPython.lib.display.IFrame at 0xffff44885590>"
      ]
     },
     "metadata": {},
     "output_type": "display_data"
    },
    {
     "name": "stdout",
     "output_type": "stream",
     "text": [
      "\u001b[1;31m---------------------------------------------------------------------------\u001b[0m\n",
      "\u001b[1;31mValueError\u001b[0m                                Traceback (most recent call last)\n",
      "File \u001b[1;32m/usr/local/lib/python3.11/site-packages/pandas/core/indexes/range.py:345\u001b[0m, in \u001b[0;36mRangeIndex.get_loc\u001b[1;34m(\n",
      "    self=RangeIndex(start=0, stop=0, step=1),\n",
      "    key=0\n",
      ")\u001b[0m\n",
      "\u001b[0;32m    344\u001b[0m \u001b[38;5;28;01mtry\u001b[39;00m:\n",
      "\u001b[1;32m--> 345\u001b[0m     \u001b[38;5;28;01mreturn\u001b[39;00m \u001b[38;5;28mself\u001b[39m\u001b[38;5;241m.\u001b[39m_range\u001b[38;5;241m.\u001b[39mindex(new_key)\n",
      "        new_key \u001b[1;34m= 0\u001b[0m\u001b[1;34m\n",
      "        \u001b[0mself \u001b[1;34m= RangeIndex(start=0, stop=0, step=1)\u001b[0m\u001b[1;34m\n",
      "        \u001b[0mself._range \u001b[1;34m= range(0, 0)\u001b[0m\n",
      "\u001b[0;32m    346\u001b[0m \u001b[38;5;28;01mexcept\u001b[39;00m \u001b[38;5;167;01mValueError\u001b[39;00m \u001b[38;5;28;01mas\u001b[39;00m err:\n",
      "\n",
      "\u001b[1;31mValueError\u001b[0m: 0 is not in range\n",
      "\n",
      "The above exception was the direct cause of the following exception:\n",
      "\n",
      "\u001b[1;31mKeyError\u001b[0m                                  Traceback (most recent call last)\n",
      "\u001b[1;31mKeyError\u001b[0m: 0\n",
      "\n",
      "\u001b[1;31m---------------------------------------------------------------------------\u001b[0m\n",
      "\u001b[1;31mValueError\u001b[0m                                Traceback (most recent call last)\n",
      "File \u001b[1;32m/usr/local/lib/python3.11/site-packages/pandas/core/indexes/range.py:345\u001b[0m, in \u001b[0;36mRangeIndex.get_loc\u001b[1;34m(\n",
      "    self=RangeIndex(start=0, stop=0, step=1),\n",
      "    key=0\n",
      ")\u001b[0m\n",
      "\u001b[0;32m    344\u001b[0m \u001b[38;5;28;01mtry\u001b[39;00m:\n",
      "\u001b[1;32m--> 345\u001b[0m     \u001b[38;5;28;01mreturn\u001b[39;00m \u001b[38;5;28mself\u001b[39m\u001b[38;5;241m.\u001b[39m_range\u001b[38;5;241m.\u001b[39mindex(new_key)\n",
      "        new_key \u001b[1;34m= 0\u001b[0m\u001b[1;34m\n",
      "        \u001b[0mself \u001b[1;34m= RangeIndex(start=0, stop=0, step=1)\u001b[0m\u001b[1;34m\n",
      "        \u001b[0mself._range \u001b[1;34m= range(0, 0)\u001b[0m\n",
      "\u001b[0;32m    346\u001b[0m \u001b[38;5;28;01mexcept\u001b[39;00m \u001b[38;5;167;01mValueError\u001b[39;00m \u001b[38;5;28;01mas\u001b[39;00m err:\n",
      "\n",
      "\u001b[1;31mValueError\u001b[0m: 0 is not in range\n",
      "\n",
      "The above exception was the direct cause of the following exception:\n",
      "\n",
      "\u001b[1;31mKeyError\u001b[0m                                  Traceback (most recent call last)\n",
      "\u001b[1;31mKeyError\u001b[0m: 0\n",
      "\n"
     ]
    }
   ],
   "source": [
    "# initialization step\n",
    "app = dash.Dash(__name__, external_stylesheets=external_stylesheets)\n",
    "\n",
    "# specification of what goes on\n",
    "app.layout = html.Div(\n",
    "    [\n",
    "        # Stuff on Top\n",
    "        html.H1(\"Know Your Representatives in Congress\"),\n",
    "        html.H2(\"Data collected from APIs from Congress.gov, Open Secrets, Voteview.com, and ProPublica\"),\n",
    "        html.H3(\"DS 6600: Data Engineering 1, UVA Data Science\"),\n",
    "        # Side Bar\n",
    "        html.Div([\n",
    "            dcc.Markdown('Please select a Representative or Senator:'),\n",
    "            dcc.Dropdown(id = 'member', options = member_list,\n",
    "                    value = 'A000370'),\n",
    "            dcc.Markdown(mymarkdown)\n",
    "        ], style = {'width': '24%', 'float': 'left'}),\n",
    "        \n",
    "        # Main\n",
    "        html.Div([\n",
    "            dcc.Tabs([\n",
    "                dcc.Tab(label = 'Biographical Info', children = [\n",
    "                    # stuff for bio tab goes here\n",
    "                    html.Div([html.Img(id = 'bioimage', style={'height':'100%', 'width':'100%'})], style = {'width': '24%', 'float':'left'}),\n",
    "                    html.Div([dcc.Graph(id = 'biotable')], style = {'width': '74%', 'float':'right'})\n",
    "                ]),\n",
    "                dcc.Tab(label = 'Bill Sponsorship', children = [\n",
    "                    # stuff for Bill Sponsorhip tab goes here\n",
    "                ]),\n",
    "                dcc.Tab(label = 'Voting and Ideology', children = [\n",
    "                    # stuff for Voting tab goes here\n",
    "                    dcc.Graph(id = 'ideograph', style = {'height': '100%', 'width': '100%'}),\n",
    "                    dcc.Markdown('Here are the top 10 most similar members of congress by voting record:'),\n",
    "                    dcc.Graph(id = 'votesim')\n",
    "                ]),\n",
    "                dcc.Tab(label = 'Donors and Financial Info', children = [\n",
    "                    # stuff for Donors tab goes here\n",
    "                    dcc.Graph(id = 'money')\n",
    "                ])\n",
    "                \n",
    "            ])\n",
    "        ], style = {'width': '74%', 'float': 'right'})\n",
    "    ]\n",
    ")\n",
    "\n",
    "@app.callback([Output(component_id = 'biotable', component_property = 'figure')],\n",
    "             [Input(component_id = 'member', component_property = 'value')])\n",
    "\n",
    "def BioTable(b):\n",
    "    myquery = f'''\n",
    "    SELECT directordername AS Name, \n",
    "            party AS Party,\n",
    "            state AS State,\n",
    "            CAST(district AS int) AS District,\n",
    "            birthyear AS Birthyear,\n",
    "            addressinformation_officeaddress AS Address,\n",
    "            CONCAT(addressinformation_city, ', ', addressinformation_district) AS City,\n",
    "            addressinformation_zipcode AS Zipcode,\n",
    "            addressinformation_phonenumber AS Phone\n",
    "    FROM members\n",
    "    WHERE bioguideid = '{b}'\n",
    "    '''\n",
    "    \n",
    "    mydf = pd.read_sql_query(myquery, con = engine)\n",
    "    \n",
    "    mydf.columns = [x.capitalize() for x in mydf.columns]\n",
    "    \n",
    "    mydf = mydf.T.reset_index()\n",
    "    \n",
    "    mydf = mydf.rename({'index': '', 0:''}, axis = 1)\n",
    "    \n",
    "    return [ff.create_table(mydf)]\n",
    "\n",
    "@app.callback([Output(component_id = 'bioimage', component_property = 'src')],\n",
    "             [Input(component_id = 'member', component_property = 'value')])\n",
    "\n",
    "def bioimage(b):\n",
    "    myquery = f'''\n",
    "    SELECT depiction_imageurl\n",
    "    FROM members\n",
    "    WHERE bioguideid='{b}'\n",
    "    '''\n",
    "    mydf = pd.read_sql_query(myquery, con=engine)\n",
    "    return [mydf['depiction_imageurl'][0]]\n",
    "\n",
    "@app.callback([Output(component_id = 'ideograph', component_property = 'figure')],\n",
    "             [Input(component_id = 'member', component_property = 'value')])\n",
    "\n",
    "def ideograph(b):\n",
    "    ideo2 = ideo_df.query(f\"bioguideid == '{b}'\")\n",
    "    fig = px.scatter(ideo_df, x='ideology', y='chamber', color='party',\n",
    "                     color_discrete_map={'Republican': 'red',\n",
    "                                         'Democrat': 'blue',\n",
    "                                         'Independent': 'green'},\n",
    "                     height=300, width=600,\n",
    "                     labels={'ideology':'Left/Right Ideology (DW-NOMINATE)', \n",
    "                            'chamber':'Chamber',\n",
    "                            'party': 'Political Party'},\n",
    "                     hover_name = 'namedistrict',\n",
    "                     hover_data=['party'],\n",
    "                     title = 'Ideological Placements in Congress',\n",
    "                    opacity = .1)\n",
    "    fig.update(layout=dict(title=dict(x=0.5)))\n",
    "    fig.update_yaxes(range=(-0.5, 1.5), tickvals=[0, 1],\n",
    "                    ticktext = ['Senate', 'House of Representatives'])\n",
    "    fig.update_xaxes(range=(-1,1), tickvals=[-1, -.5, 0, .5, 1],\n",
    "                    ticktext = ['Extreme left', 'Moderate left', 'Centrist', 'Moderate right', 'Extreme right'])\n",
    "    \n",
    "     \n",
    "    \n",
    "    fig.add_traces(\n",
    "        px.scatter(ideo2, x='ideology', y='chamber', color='party',\n",
    "                     color_discrete_map={'Republican': 'red',\n",
    "                                         'Democrat': 'blue',\n",
    "                                         'Independent': 'green'},\n",
    "                     height=300, width=600,\n",
    "                     labels={'ideology':'Left/Right Ideology (DW-NOMINATE)', \n",
    "                            'chamber':'Chamber',\n",
    "                            'party': 'Political Party'},\n",
    "                     hover_name = 'namedistrict',\n",
    "                     hover_data=['party'],\n",
    "                     title = 'Ideological Placements in Congress').update_traces(marker=dict(size=8, symbol=\"star\", line=dict(width=2, color=\"DarkSlateGrey\")),\n",
    "                                                                                 showlegend=False).data\n",
    "    )\n",
    "    \n",
    "    fig.update_layout(autosize=True)\n",
    "    \n",
    "    return [fig]\n",
    "\n",
    "@app.callback([Output(component_id = 'votesim', component_property = 'figure')],\n",
    "             [Input(component_id = 'member', component_property = 'value')])\n",
    "\n",
    "def votesim(b):\n",
    "    myquery = f'''\n",
    "    SELECT m.directordername, \n",
    "        m.state,\n",
    "        m.party,\n",
    "        g.affinity_score\n",
    "    FROM members m\n",
    "    INNER JOIN (SELECT v.member_compare,\n",
    "                    v.affinity_score\n",
    "                FROM members m\n",
    "                INNER JOIN votesim v\n",
    "                    ON m.icpsr = v.icpsr\n",
    "                WHERE m.bioguideid = '{b}'\n",
    "                ORDER BY v.affinity_score\n",
    "                    DESC\n",
    "                LIMIT 10) g\n",
    "        ON m.icpsr = g.member_compare\n",
    "    ORDER BY g.affinity_score\n",
    "        DESC\n",
    "    '''\n",
    "    vote_df = pd.read_sql_query(myquery, con = engine)\n",
    "    vote_df = vote_df.rename({'directordername': 'Name',\n",
    "                               'state': 'State',\n",
    "                               'party': 'Party',\n",
    "                               'affinity_score': 'Vote Similarity'}, axis = 1)\n",
    "    vote_df['Vote Similarity'] = round(100 * vote_df['Vote Similarity'], 1).astype('str') + '%'\n",
    "    return [ff.create_table(vote_df)]\n",
    "\n",
    "@app.callback([Output(component_id = 'money', component_property = 'figure')],\n",
    "             [Input(component_id = 'member', component_property = 'value')])\n",
    "\n",
    "def contribgraph(b):\n",
    "    myquery = f'''\n",
    "    SELECT m.directordername,\n",
    "        c.org_name,\n",
    "        c.pac,\n",
    "        c.ndiv\n",
    "    FROM contributions c\n",
    "    INNER JOIN members m\n",
    "        ON m.cid = c.cid\n",
    "    WHERE m.bioguideid = '{b}'\n",
    "    '''\n",
    "    contrib_df = pd.read_sql_query(myquery, con=engine)\n",
    "    name = contrib_df['directordername'][0]\n",
    "    contrib_df = contrib_df.drop('directordername', axis = 1) \n",
    "    contrib_df = contrib_df.rename({'org_name': 'Orginization',\n",
    "                                   'pac': 'Contribution Via PAC',\n",
    "                                   'ndiv': 'Direct Contrbiution'}, axis = 1)\n",
    "    contrib_df = pd.melt(contrib_df, id_vars = ['Orginization'],\n",
    "                        value_vars = ['Contribution Via PAC', 'Direct Contrbiution'])\n",
    "    fig = px.bar(contrib_df, x = 'value', y = 'Orginization', color = 'variable', \n",
    "                 labels = {'value': 'Amount Donated', 'variable': 'Source'},\n",
    "                title = f\"Who's giving money to {name}?\")\n",
    "    fig.update(layout=dict(title=dict(x=0.5)))\n",
    "    \n",
    "    return [fig]\n",
    "\n",
    "# exectuation\n",
    "if __name__ == \"__main__\":\n",
    "    app.run_server(mode=\"external\", host = '0.0.0.0', port = '8050', debug = True)"
   ]
  },
  {
   "cell_type": "code",
   "execution_count": 19,
   "id": "75fe1ecd-c1a5-4547-a489-a3d56fd176fe",
   "metadata": {},
   "outputs": [
    {
     "data": {
      "text/html": [
       "<div>\n",
       "<style scoped>\n",
       "    .dataframe tbody tr th:only-of-type {\n",
       "        vertical-align: middle;\n",
       "    }\n",
       "\n",
       "    .dataframe tbody tr th {\n",
       "        vertical-align: top;\n",
       "    }\n",
       "\n",
       "    .dataframe thead th {\n",
       "        text-align: right;\n",
       "    }\n",
       "</style>\n",
       "<table border=\"1\" class=\"dataframe\">\n",
       "  <thead>\n",
       "    <tr style=\"text-align: right;\">\n",
       "      <th></th>\n",
       "      <th>member_compare</th>\n",
       "      <th>affinity_score</th>\n",
       "    </tr>\n",
       "  </thead>\n",
       "  <tbody>\n",
       "    <tr>\n",
       "      <th>0</th>\n",
       "      <td>40305</td>\n",
       "      <td>0.856618</td>\n",
       "    </tr>\n",
       "    <tr>\n",
       "      <th>1</th>\n",
       "      <td>21133</td>\n",
       "      <td>0.841912</td>\n",
       "    </tr>\n",
       "    <tr>\n",
       "      <th>2</th>\n",
       "      <td>29754</td>\n",
       "      <td>0.838235</td>\n",
       "    </tr>\n",
       "    <tr>\n",
       "      <th>3</th>\n",
       "      <td>20146</td>\n",
       "      <td>0.838235</td>\n",
       "    </tr>\n",
       "    <tr>\n",
       "      <th>4</th>\n",
       "      <td>20101</td>\n",
       "      <td>0.834559</td>\n",
       "    </tr>\n",
       "    <tr>\n",
       "      <th>5</th>\n",
       "      <td>41902</td>\n",
       "      <td>0.827206</td>\n",
       "    </tr>\n",
       "    <tr>\n",
       "      <th>6</th>\n",
       "      <td>41505</td>\n",
       "      <td>0.823529</td>\n",
       "    </tr>\n",
       "    <tr>\n",
       "      <th>7</th>\n",
       "      <td>29534</td>\n",
       "      <td>0.823529</td>\n",
       "    </tr>\n",
       "    <tr>\n",
       "      <th>8</th>\n",
       "      <td>41302</td>\n",
       "      <td>0.816176</td>\n",
       "    </tr>\n",
       "    <tr>\n",
       "      <th>9</th>\n",
       "      <td>41502</td>\n",
       "      <td>0.816176</td>\n",
       "    </tr>\n",
       "  </tbody>\n",
       "</table>\n",
       "</div>"
      ],
      "text/plain": [
       "   member_compare  affinity_score\n",
       "0           40305        0.856618\n",
       "1           21133        0.841912\n",
       "2           29754        0.838235\n",
       "3           20146        0.838235\n",
       "4           20101        0.834559\n",
       "5           41902        0.827206\n",
       "6           41505        0.823529\n",
       "7           29534        0.823529\n",
       "8           41302        0.816176\n",
       "9           41502        0.816176"
      ]
     },
     "execution_count": 19,
     "metadata": {},
     "output_type": "execute_result"
    }
   ],
   "source": [
    "# show who is most similar to that person\n",
    "# \n",
    "b = 'G000386'\n",
    "myquery = f'''\n",
    "SELECT v.member_compare,\n",
    "    v.affinity_score\n",
    "FROM members m\n",
    "INNER JOIN votesim v\n",
    "    ON m.icpsr = v.icpsr\n",
    "WHERE m.bioguideid = '{b}'\n",
    "ORDER BY v.affinity_score\n",
    "    DESC\n",
    "LIMIT 10\n",
    "'''\n",
    "pd.read_sql_query(myquery, con = engine)"
   ]
  },
  {
   "cell_type": "code",
   "execution_count": 44,
   "id": "c569d96e-4987-4c24-858e-e8eccb9f9223",
   "metadata": {},
   "outputs": [
    {
     "data": {
      "application/vnd.plotly.v1+json": {
       "config": {
        "plotlyServerURL": "https://plot.ly"
       },
       "data": [
        {
         "alignmentgroup": "True",
         "hovertemplate": "Source=Contribution Via PAC<br>Amount Donated=%{x}<br>Orginization=%{y}<extra></extra>",
         "legendgroup": "Contribution Via PAC",
         "marker": {
          "color": "#636efa",
          "pattern": {
           "shape": ""
          }
         },
         "name": "Contribution Via PAC",
         "offsetgroup": "Contribution Via PAC",
         "orientation": "h",
         "showlegend": true,
         "textposition": "auto",
         "type": "bar",
         "x": [
          0,
          51200,
          0,
          0,
          5000,
          11500,
          20000,
          0,
          7500,
          0
         ],
         "xaxis": "x",
         "y": [
          "Democracy Engine",
          "National Republican Senatorial Cmte",
          "Blackstone Group",
          "DCI Group",
          "DISH Network",
          "Renewable Energy Group",
          "Promoting Our Republican Team PAC",
          "alliantgroup",
          "Brownstein, Hyatt et al",
          "Energy Transfer Partners"
         ],
         "yaxis": "y"
        },
        {
         "alignmentgroup": "True",
         "hovertemplate": "Source=Direct Contrbiution<br>Amount Donated=%{x}<br>Orginization=%{y}<extra></extra>",
         "legendgroup": "Direct Contrbiution",
         "marker": {
          "color": "#EF553B",
          "pattern": {
           "shape": ""
          }
         },
         "name": "Direct Contrbiution",
         "offsetgroup": "Direct Contrbiution",
         "orientation": "h",
         "showlegend": true,
         "textposition": "auto",
         "type": "bar",
         "x": [
          108460,
          0,
          25305,
          25150,
          19900,
          8800,
          0,
          19750,
          10133,
          17408
         ],
         "xaxis": "x",
         "y": [
          "Democracy Engine",
          "National Republican Senatorial Cmte",
          "Blackstone Group",
          "DCI Group",
          "DISH Network",
          "Renewable Energy Group",
          "Promoting Our Republican Team PAC",
          "alliantgroup",
          "Brownstein, Hyatt et al",
          "Energy Transfer Partners"
         ],
         "yaxis": "y"
        }
       ],
       "layout": {
        "autosize": true,
        "barmode": "relative",
        "legend": {
         "title": {
          "text": "Source"
         },
         "tracegroupgap": 0
        },
        "template": {
         "data": {
          "bar": [
           {
            "error_x": {
             "color": "#2a3f5f"
            },
            "error_y": {
             "color": "#2a3f5f"
            },
            "marker": {
             "line": {
              "color": "#E5ECF6",
              "width": 0.5
             },
             "pattern": {
              "fillmode": "overlay",
              "size": 10,
              "solidity": 0.2
             }
            },
            "type": "bar"
           }
          ],
          "barpolar": [
           {
            "marker": {
             "line": {
              "color": "#E5ECF6",
              "width": 0.5
             },
             "pattern": {
              "fillmode": "overlay",
              "size": 10,
              "solidity": 0.2
             }
            },
            "type": "barpolar"
           }
          ],
          "carpet": [
           {
            "aaxis": {
             "endlinecolor": "#2a3f5f",
             "gridcolor": "white",
             "linecolor": "white",
             "minorgridcolor": "white",
             "startlinecolor": "#2a3f5f"
            },
            "baxis": {
             "endlinecolor": "#2a3f5f",
             "gridcolor": "white",
             "linecolor": "white",
             "minorgridcolor": "white",
             "startlinecolor": "#2a3f5f"
            },
            "type": "carpet"
           }
          ],
          "choropleth": [
           {
            "colorbar": {
             "outlinewidth": 0,
             "ticks": ""
            },
            "type": "choropleth"
           }
          ],
          "contour": [
           {
            "colorbar": {
             "outlinewidth": 0,
             "ticks": ""
            },
            "colorscale": [
             [
              0,
              "#0d0887"
             ],
             [
              0.1111111111111111,
              "#46039f"
             ],
             [
              0.2222222222222222,
              "#7201a8"
             ],
             [
              0.3333333333333333,
              "#9c179e"
             ],
             [
              0.4444444444444444,
              "#bd3786"
             ],
             [
              0.5555555555555556,
              "#d8576b"
             ],
             [
              0.6666666666666666,
              "#ed7953"
             ],
             [
              0.7777777777777778,
              "#fb9f3a"
             ],
             [
              0.8888888888888888,
              "#fdca26"
             ],
             [
              1,
              "#f0f921"
             ]
            ],
            "type": "contour"
           }
          ],
          "contourcarpet": [
           {
            "colorbar": {
             "outlinewidth": 0,
             "ticks": ""
            },
            "type": "contourcarpet"
           }
          ],
          "heatmap": [
           {
            "colorbar": {
             "outlinewidth": 0,
             "ticks": ""
            },
            "colorscale": [
             [
              0,
              "#0d0887"
             ],
             [
              0.1111111111111111,
              "#46039f"
             ],
             [
              0.2222222222222222,
              "#7201a8"
             ],
             [
              0.3333333333333333,
              "#9c179e"
             ],
             [
              0.4444444444444444,
              "#bd3786"
             ],
             [
              0.5555555555555556,
              "#d8576b"
             ],
             [
              0.6666666666666666,
              "#ed7953"
             ],
             [
              0.7777777777777778,
              "#fb9f3a"
             ],
             [
              0.8888888888888888,
              "#fdca26"
             ],
             [
              1,
              "#f0f921"
             ]
            ],
            "type": "heatmap"
           }
          ],
          "heatmapgl": [
           {
            "colorbar": {
             "outlinewidth": 0,
             "ticks": ""
            },
            "colorscale": [
             [
              0,
              "#0d0887"
             ],
             [
              0.1111111111111111,
              "#46039f"
             ],
             [
              0.2222222222222222,
              "#7201a8"
             ],
             [
              0.3333333333333333,
              "#9c179e"
             ],
             [
              0.4444444444444444,
              "#bd3786"
             ],
             [
              0.5555555555555556,
              "#d8576b"
             ],
             [
              0.6666666666666666,
              "#ed7953"
             ],
             [
              0.7777777777777778,
              "#fb9f3a"
             ],
             [
              0.8888888888888888,
              "#fdca26"
             ],
             [
              1,
              "#f0f921"
             ]
            ],
            "type": "heatmapgl"
           }
          ],
          "histogram": [
           {
            "marker": {
             "pattern": {
              "fillmode": "overlay",
              "size": 10,
              "solidity": 0.2
             }
            },
            "type": "histogram"
           }
          ],
          "histogram2d": [
           {
            "colorbar": {
             "outlinewidth": 0,
             "ticks": ""
            },
            "colorscale": [
             [
              0,
              "#0d0887"
             ],
             [
              0.1111111111111111,
              "#46039f"
             ],
             [
              0.2222222222222222,
              "#7201a8"
             ],
             [
              0.3333333333333333,
              "#9c179e"
             ],
             [
              0.4444444444444444,
              "#bd3786"
             ],
             [
              0.5555555555555556,
              "#d8576b"
             ],
             [
              0.6666666666666666,
              "#ed7953"
             ],
             [
              0.7777777777777778,
              "#fb9f3a"
             ],
             [
              0.8888888888888888,
              "#fdca26"
             ],
             [
              1,
              "#f0f921"
             ]
            ],
            "type": "histogram2d"
           }
          ],
          "histogram2dcontour": [
           {
            "colorbar": {
             "outlinewidth": 0,
             "ticks": ""
            },
            "colorscale": [
             [
              0,
              "#0d0887"
             ],
             [
              0.1111111111111111,
              "#46039f"
             ],
             [
              0.2222222222222222,
              "#7201a8"
             ],
             [
              0.3333333333333333,
              "#9c179e"
             ],
             [
              0.4444444444444444,
              "#bd3786"
             ],
             [
              0.5555555555555556,
              "#d8576b"
             ],
             [
              0.6666666666666666,
              "#ed7953"
             ],
             [
              0.7777777777777778,
              "#fb9f3a"
             ],
             [
              0.8888888888888888,
              "#fdca26"
             ],
             [
              1,
              "#f0f921"
             ]
            ],
            "type": "histogram2dcontour"
           }
          ],
          "mesh3d": [
           {
            "colorbar": {
             "outlinewidth": 0,
             "ticks": ""
            },
            "type": "mesh3d"
           }
          ],
          "parcoords": [
           {
            "line": {
             "colorbar": {
              "outlinewidth": 0,
              "ticks": ""
             }
            },
            "type": "parcoords"
           }
          ],
          "pie": [
           {
            "automargin": true,
            "type": "pie"
           }
          ],
          "scatter": [
           {
            "fillpattern": {
             "fillmode": "overlay",
             "size": 10,
             "solidity": 0.2
            },
            "type": "scatter"
           }
          ],
          "scatter3d": [
           {
            "line": {
             "colorbar": {
              "outlinewidth": 0,
              "ticks": ""
             }
            },
            "marker": {
             "colorbar": {
              "outlinewidth": 0,
              "ticks": ""
             }
            },
            "type": "scatter3d"
           }
          ],
          "scattercarpet": [
           {
            "marker": {
             "colorbar": {
              "outlinewidth": 0,
              "ticks": ""
             }
            },
            "type": "scattercarpet"
           }
          ],
          "scattergeo": [
           {
            "marker": {
             "colorbar": {
              "outlinewidth": 0,
              "ticks": ""
             }
            },
            "type": "scattergeo"
           }
          ],
          "scattergl": [
           {
            "marker": {
             "colorbar": {
              "outlinewidth": 0,
              "ticks": ""
             }
            },
            "type": "scattergl"
           }
          ],
          "scattermapbox": [
           {
            "marker": {
             "colorbar": {
              "outlinewidth": 0,
              "ticks": ""
             }
            },
            "type": "scattermapbox"
           }
          ],
          "scatterpolar": [
           {
            "marker": {
             "colorbar": {
              "outlinewidth": 0,
              "ticks": ""
             }
            },
            "type": "scatterpolar"
           }
          ],
          "scatterpolargl": [
           {
            "marker": {
             "colorbar": {
              "outlinewidth": 0,
              "ticks": ""
             }
            },
            "type": "scatterpolargl"
           }
          ],
          "scatterternary": [
           {
            "marker": {
             "colorbar": {
              "outlinewidth": 0,
              "ticks": ""
             }
            },
            "type": "scatterternary"
           }
          ],
          "surface": [
           {
            "colorbar": {
             "outlinewidth": 0,
             "ticks": ""
            },
            "colorscale": [
             [
              0,
              "#0d0887"
             ],
             [
              0.1111111111111111,
              "#46039f"
             ],
             [
              0.2222222222222222,
              "#7201a8"
             ],
             [
              0.3333333333333333,
              "#9c179e"
             ],
             [
              0.4444444444444444,
              "#bd3786"
             ],
             [
              0.5555555555555556,
              "#d8576b"
             ],
             [
              0.6666666666666666,
              "#ed7953"
             ],
             [
              0.7777777777777778,
              "#fb9f3a"
             ],
             [
              0.8888888888888888,
              "#fdca26"
             ],
             [
              1,
              "#f0f921"
             ]
            ],
            "type": "surface"
           }
          ],
          "table": [
           {
            "cells": {
             "fill": {
              "color": "#EBF0F8"
             },
             "line": {
              "color": "white"
             }
            },
            "header": {
             "fill": {
              "color": "#C8D4E3"
             },
             "line": {
              "color": "white"
             }
            },
            "type": "table"
           }
          ]
         },
         "layout": {
          "annotationdefaults": {
           "arrowcolor": "#2a3f5f",
           "arrowhead": 0,
           "arrowwidth": 1
          },
          "autotypenumbers": "strict",
          "coloraxis": {
           "colorbar": {
            "outlinewidth": 0,
            "ticks": ""
           }
          },
          "colorscale": {
           "diverging": [
            [
             0,
             "#8e0152"
            ],
            [
             0.1,
             "#c51b7d"
            ],
            [
             0.2,
             "#de77ae"
            ],
            [
             0.3,
             "#f1b6da"
            ],
            [
             0.4,
             "#fde0ef"
            ],
            [
             0.5,
             "#f7f7f7"
            ],
            [
             0.6,
             "#e6f5d0"
            ],
            [
             0.7,
             "#b8e186"
            ],
            [
             0.8,
             "#7fbc41"
            ],
            [
             0.9,
             "#4d9221"
            ],
            [
             1,
             "#276419"
            ]
           ],
           "sequential": [
            [
             0,
             "#0d0887"
            ],
            [
             0.1111111111111111,
             "#46039f"
            ],
            [
             0.2222222222222222,
             "#7201a8"
            ],
            [
             0.3333333333333333,
             "#9c179e"
            ],
            [
             0.4444444444444444,
             "#bd3786"
            ],
            [
             0.5555555555555556,
             "#d8576b"
            ],
            [
             0.6666666666666666,
             "#ed7953"
            ],
            [
             0.7777777777777778,
             "#fb9f3a"
            ],
            [
             0.8888888888888888,
             "#fdca26"
            ],
            [
             1,
             "#f0f921"
            ]
           ],
           "sequentialminus": [
            [
             0,
             "#0d0887"
            ],
            [
             0.1111111111111111,
             "#46039f"
            ],
            [
             0.2222222222222222,
             "#7201a8"
            ],
            [
             0.3333333333333333,
             "#9c179e"
            ],
            [
             0.4444444444444444,
             "#bd3786"
            ],
            [
             0.5555555555555556,
             "#d8576b"
            ],
            [
             0.6666666666666666,
             "#ed7953"
            ],
            [
             0.7777777777777778,
             "#fb9f3a"
            ],
            [
             0.8888888888888888,
             "#fdca26"
            ],
            [
             1,
             "#f0f921"
            ]
           ]
          },
          "colorway": [
           "#636efa",
           "#EF553B",
           "#00cc96",
           "#ab63fa",
           "#FFA15A",
           "#19d3f3",
           "#FF6692",
           "#B6E880",
           "#FF97FF",
           "#FECB52"
          ],
          "font": {
           "color": "#2a3f5f"
          },
          "geo": {
           "bgcolor": "white",
           "lakecolor": "white",
           "landcolor": "#E5ECF6",
           "showlakes": true,
           "showland": true,
           "subunitcolor": "white"
          },
          "hoverlabel": {
           "align": "left"
          },
          "hovermode": "closest",
          "mapbox": {
           "style": "light"
          },
          "paper_bgcolor": "white",
          "plot_bgcolor": "#E5ECF6",
          "polar": {
           "angularaxis": {
            "gridcolor": "white",
            "linecolor": "white",
            "ticks": ""
           },
           "bgcolor": "#E5ECF6",
           "radialaxis": {
            "gridcolor": "white",
            "linecolor": "white",
            "ticks": ""
           }
          },
          "scene": {
           "xaxis": {
            "backgroundcolor": "#E5ECF6",
            "gridcolor": "white",
            "gridwidth": 2,
            "linecolor": "white",
            "showbackground": true,
            "ticks": "",
            "zerolinecolor": "white"
           },
           "yaxis": {
            "backgroundcolor": "#E5ECF6",
            "gridcolor": "white",
            "gridwidth": 2,
            "linecolor": "white",
            "showbackground": true,
            "ticks": "",
            "zerolinecolor": "white"
           },
           "zaxis": {
            "backgroundcolor": "#E5ECF6",
            "gridcolor": "white",
            "gridwidth": 2,
            "linecolor": "white",
            "showbackground": true,
            "ticks": "",
            "zerolinecolor": "white"
           }
          },
          "shapedefaults": {
           "line": {
            "color": "#2a3f5f"
           }
          },
          "ternary": {
           "aaxis": {
            "gridcolor": "white",
            "linecolor": "white",
            "ticks": ""
           },
           "baxis": {
            "gridcolor": "white",
            "linecolor": "white",
            "ticks": ""
           },
           "bgcolor": "#E5ECF6",
           "caxis": {
            "gridcolor": "white",
            "linecolor": "white",
            "ticks": ""
           }
          },
          "title": {
           "x": 0.05
          },
          "xaxis": {
           "automargin": true,
           "gridcolor": "white",
           "linecolor": "white",
           "ticks": "",
           "title": {
            "standoff": 15
           },
           "zerolinecolor": "white",
           "zerolinewidth": 2
          },
          "yaxis": {
           "automargin": true,
           "gridcolor": "white",
           "linecolor": "white",
           "ticks": "",
           "title": {
            "standoff": 15
           },
           "zerolinecolor": "white",
           "zerolinewidth": 2
          }
         }
        },
        "title": {
         "text": "Who's giving money to Chuck Grassley?",
         "x": 0.5
        },
        "xaxis": {
         "anchor": "y",
         "autorange": true,
         "domain": [
          0,
          1
         ],
         "range": [
          0,
          114168.42105263157
         ],
         "title": {
          "text": "Amount Donated"
         },
         "type": "linear"
        },
        "yaxis": {
         "anchor": "x",
         "autorange": true,
         "domain": [
          0,
          1
         ],
         "range": [
          -0.5,
          9.5
         ],
         "title": {
          "text": "Orginization"
         },
         "type": "category"
        }
       }
      },
      "image/png": "[encoded data removed]",
      "text/html": [
       "<div>                            <div id=\"3f7204ed-9151-495a-928f-d0f0f044b688\" class=\"plotly-graph-div\" style=\"height:525px; width:100%;\"></div>            <script type=\"text/javascript\">                require([\"plotly\"], function(Plotly) {                    window.PLOTLYENV=window.PLOTLYENV || {};                                    if (document.getElementById(\"3f7204ed-9151-495a-928f-d0f0f044b688\")) {                    Plotly.newPlot(                        \"3f7204ed-9151-495a-928f-d0f0f044b688\",                        [{\"alignmentgroup\":\"True\",\"hovertemplate\":\"Source=Contribution Via PAC\\u003cbr\\u003eAmount Donated=%{x}\\u003cbr\\u003eOrginization=%{y}\\u003cextra\\u003e\\u003c\\u002fextra\\u003e\",\"legendgroup\":\"Contribution Via PAC\",\"marker\":{\"color\":\"#636efa\",\"pattern\":{\"shape\":\"\"}},\"name\":\"Contribution Via PAC\",\"offsetgroup\":\"Contribution Via PAC\",\"orientation\":\"h\",\"showlegend\":true,\"textposition\":\"auto\",\"x\":[0,51200,0,0,5000,11500,20000,0,7500,0],\"xaxis\":\"x\",\"y\":[\"Democracy Engine\",\"National Republican Senatorial Cmte\",\"Blackstone Group\",\"DCI Group\",\"DISH Network\",\"Renewable Energy Group\",\"Promoting Our Republican Team PAC\",\"alliantgroup\",\"Brownstein, Hyatt et al\",\"Energy Transfer Partners\"],\"yaxis\":\"y\",\"type\":\"bar\"},{\"alignmentgroup\":\"True\",\"hovertemplate\":\"Source=Direct Contrbiution\\u003cbr\\u003eAmount Donated=%{x}\\u003cbr\\u003eOrginization=%{y}\\u003cextra\\u003e\\u003c\\u002fextra\\u003e\",\"legendgroup\":\"Direct Contrbiution\",\"marker\":{\"color\":\"#EF553B\",\"pattern\":{\"shape\":\"\"}},\"name\":\"Direct Contrbiution\",\"offsetgroup\":\"Direct Contrbiution\",\"orientation\":\"h\",\"showlegend\":true,\"textposition\":\"auto\",\"x\":[108460,0,25305,25150,19900,8800,0,19750,10133,17408],\"xaxis\":\"x\",\"y\":[\"Democracy Engine\",\"National Republican Senatorial Cmte\",\"Blackstone Group\",\"DCI Group\",\"DISH Network\",\"Renewable Energy Group\",\"Promoting Our Republican Team PAC\",\"alliantgroup\",\"Brownstein, Hyatt et al\",\"Energy Transfer Partners\"],\"yaxis\":\"y\",\"type\":\"bar\"}],                        {\"template\":{\"data\":{\"histogram2dcontour\":[{\"type\":\"histogram2dcontour\",\"colorbar\":{\"outlinewidth\":0,\"ticks\":\"\"},\"colorscale\":[[0.0,\"#0d0887\"],[0.1111111111111111,\"#46039f\"],[0.2222222222222222,\"#7201a8\"],[0.3333333333333333,\"#9c179e\"],[0.4444444444444444,\"#bd3786\"],[0.5555555555555556,\"#d8576b\"],[0.6666666666666666,\"#ed7953\"],[0.7777777777777778,\"#fb9f3a\"],[0.8888888888888888,\"#fdca26\"],[1.0,\"#f0f921\"]]}],\"choropleth\":[{\"type\":\"choropleth\",\"colorbar\":{\"outlinewidth\":0,\"ticks\":\"\"}}],\"histogram2d\":[{\"type\":\"histogram2d\",\"colorbar\":{\"outlinewidth\":0,\"ticks\":\"\"},\"colorscale\":[[0.0,\"#0d0887\"],[0.1111111111111111,\"#46039f\"],[0.2222222222222222,\"#7201a8\"],[0.3333333333333333,\"#9c179e\"],[0.4444444444444444,\"#bd3786\"],[0.5555555555555556,\"#d8576b\"],[0.6666666666666666,\"#ed7953\"],[0.7777777777777778,\"#fb9f3a\"],[0.8888888888888888,\"#fdca26\"],[1.0,\"#f0f921\"]]}],\"heatmap\":[{\"type\":\"heatmap\",\"colorbar\":{\"outlinewidth\":0,\"ticks\":\"\"},\"colorscale\":[[0.0,\"#0d0887\"],[0.1111111111111111,\"#46039f\"],[0.2222222222222222,\"#7201a8\"],[0.3333333333333333,\"#9c179e\"],[0.4444444444444444,\"#bd3786\"],[0.5555555555555556,\"#d8576b\"],[0.6666666666666666,\"#ed7953\"],[0.7777777777777778,\"#fb9f3a\"],[0.8888888888888888,\"#fdca26\"],[1.0,\"#f0f921\"]]}],\"heatmapgl\":[{\"type\":\"heatmapgl\",\"colorbar\":{\"outlinewidth\":0,\"ticks\":\"\"},\"colorscale\":[[0.0,\"#0d0887\"],[0.1111111111111111,\"#46039f\"],[0.2222222222222222,\"#7201a8\"],[0.3333333333333333,\"#9c179e\"],[0.4444444444444444,\"#bd3786\"],[0.5555555555555556,\"#d8576b\"],[0.6666666666666666,\"#ed7953\"],[0.7777777777777778,\"#fb9f3a\"],[0.8888888888888888,\"#fdca26\"],[1.0,\"#f0f921\"]]}],\"contourcarpet\":[{\"type\":\"contourcarpet\",\"colorbar\":{\"outlinewidth\":0,\"ticks\":\"\"}}],\"contour\":[{\"type\":\"contour\",\"colorbar\":{\"outlinewidth\":0,\"ticks\":\"\"},\"colorscale\":[[0.0,\"#0d0887\"],[0.1111111111111111,\"#46039f\"],[0.2222222222222222,\"#7201a8\"],[0.3333333333333333,\"#9c179e\"],[0.4444444444444444,\"#bd3786\"],[0.5555555555555556,\"#d8576b\"],[0.6666666666666666,\"#ed7953\"],[0.7777777777777778,\"#fb9f3a\"],[0.8888888888888888,\"#fdca26\"],[1.0,\"#f0f921\"]]}],\"surface\":[{\"type\":\"surface\",\"colorbar\":{\"outlinewidth\":0,\"ticks\":\"\"},\"colorscale\":[[0.0,\"#0d0887\"],[0.1111111111111111,\"#46039f\"],[0.2222222222222222,\"#7201a8\"],[0.3333333333333333,\"#9c179e\"],[0.4444444444444444,\"#bd3786\"],[0.5555555555555556,\"#d8576b\"],[0.6666666666666666,\"#ed7953\"],[0.7777777777777778,\"#fb9f3a\"],[0.8888888888888888,\"#fdca26\"],[1.0,\"#f0f921\"]]}],\"mesh3d\":[{\"type\":\"mesh3d\",\"colorbar\":{\"outlinewidth\":0,\"ticks\":\"\"}}],\"scatter\":[{\"fillpattern\":{\"fillmode\":\"overlay\",\"size\":10,\"solidity\":0.2},\"type\":\"scatter\"}],\"parcoords\":[{\"type\":\"parcoords\",\"line\":{\"colorbar\":{\"outlinewidth\":0,\"ticks\":\"\"}}}],\"scatterpolargl\":[{\"type\":\"scatterpolargl\",\"marker\":{\"colorbar\":{\"outlinewidth\":0,\"ticks\":\"\"}}}],\"bar\":[{\"error_x\":{\"color\":\"#2a3f5f\"},\"error_y\":{\"color\":\"#2a3f5f\"},\"marker\":{\"line\":{\"color\":\"#E5ECF6\",\"width\":0.5},\"pattern\":{\"fillmode\":\"overlay\",\"size\":10,\"solidity\":0.2}},\"type\":\"bar\"}],\"scattergeo\":[{\"type\":\"scattergeo\",\"marker\":{\"colorbar\":{\"outlinewidth\":0,\"ticks\":\"\"}}}],\"scatterpolar\":[{\"type\":\"scatterpolar\",\"marker\":{\"colorbar\":{\"outlinewidth\":0,\"ticks\":\"\"}}}],\"histogram\":[{\"marker\":{\"pattern\":{\"fillmode\":\"overlay\",\"size\":10,\"solidity\":0.2}},\"type\":\"histogram\"}],\"scattergl\":[{\"type\":\"scattergl\",\"marker\":{\"colorbar\":{\"outlinewidth\":0,\"ticks\":\"\"}}}],\"scatter3d\":[{\"type\":\"scatter3d\",\"line\":{\"colorbar\":{\"outlinewidth\":0,\"ticks\":\"\"}},\"marker\":{\"colorbar\":{\"outlinewidth\":0,\"ticks\":\"\"}}}],\"scattermapbox\":[{\"type\":\"scattermapbox\",\"marker\":{\"colorbar\":{\"outlinewidth\":0,\"ticks\":\"\"}}}],\"scatterternary\":[{\"type\":\"scatterternary\",\"marker\":{\"colorbar\":{\"outlinewidth\":0,\"ticks\":\"\"}}}],\"scattercarpet\":[{\"type\":\"scattercarpet\",\"marker\":{\"colorbar\":{\"outlinewidth\":0,\"ticks\":\"\"}}}],\"carpet\":[{\"aaxis\":{\"endlinecolor\":\"#2a3f5f\",\"gridcolor\":\"white\",\"linecolor\":\"white\",\"minorgridcolor\":\"white\",\"startlinecolor\":\"#2a3f5f\"},\"baxis\":{\"endlinecolor\":\"#2a3f5f\",\"gridcolor\":\"white\",\"linecolor\":\"white\",\"minorgridcolor\":\"white\",\"startlinecolor\":\"#2a3f5f\"},\"type\":\"carpet\"}],\"table\":[{\"cells\":{\"fill\":{\"color\":\"#EBF0F8\"},\"line\":{\"color\":\"white\"}},\"header\":{\"fill\":{\"color\":\"#C8D4E3\"},\"line\":{\"color\":\"white\"}},\"type\":\"table\"}],\"barpolar\":[{\"marker\":{\"line\":{\"color\":\"#E5ECF6\",\"width\":0.5},\"pattern\":{\"fillmode\":\"overlay\",\"size\":10,\"solidity\":0.2}},\"type\":\"barpolar\"}],\"pie\":[{\"automargin\":true,\"type\":\"pie\"}]},\"layout\":{\"autotypenumbers\":\"strict\",\"colorway\":[\"#636efa\",\"#EF553B\",\"#00cc96\",\"#ab63fa\",\"#FFA15A\",\"#19d3f3\",\"#FF6692\",\"#B6E880\",\"#FF97FF\",\"#FECB52\"],\"font\":{\"color\":\"#2a3f5f\"},\"hovermode\":\"closest\",\"hoverlabel\":{\"align\":\"left\"},\"paper_bgcolor\":\"white\",\"plot_bgcolor\":\"#E5ECF6\",\"polar\":{\"bgcolor\":\"#E5ECF6\",\"angularaxis\":{\"gridcolor\":\"white\",\"linecolor\":\"white\",\"ticks\":\"\"},\"radialaxis\":{\"gridcolor\":\"white\",\"linecolor\":\"white\",\"ticks\":\"\"}},\"ternary\":{\"bgcolor\":\"#E5ECF6\",\"aaxis\":{\"gridcolor\":\"white\",\"linecolor\":\"white\",\"ticks\":\"\"},\"baxis\":{\"gridcolor\":\"white\",\"linecolor\":\"white\",\"ticks\":\"\"},\"caxis\":{\"gridcolor\":\"white\",\"linecolor\":\"white\",\"ticks\":\"\"}},\"coloraxis\":{\"colorbar\":{\"outlinewidth\":0,\"ticks\":\"\"}},\"colorscale\":{\"sequential\":[[0.0,\"#0d0887\"],[0.1111111111111111,\"#46039f\"],[0.2222222222222222,\"#7201a8\"],[0.3333333333333333,\"#9c179e\"],[0.4444444444444444,\"#bd3786\"],[0.5555555555555556,\"#d8576b\"],[0.6666666666666666,\"#ed7953\"],[0.7777777777777778,\"#fb9f3a\"],[0.8888888888888888,\"#fdca26\"],[1.0,\"#f0f921\"]],\"sequentialminus\":[[0.0,\"#0d0887\"],[0.1111111111111111,\"#46039f\"],[0.2222222222222222,\"#7201a8\"],[0.3333333333333333,\"#9c179e\"],[0.4444444444444444,\"#bd3786\"],[0.5555555555555556,\"#d8576b\"],[0.6666666666666666,\"#ed7953\"],[0.7777777777777778,\"#fb9f3a\"],[0.8888888888888888,\"#fdca26\"],[1.0,\"#f0f921\"]],\"diverging\":[[0,\"#8e0152\"],[0.1,\"#c51b7d\"],[0.2,\"#de77ae\"],[0.3,\"#f1b6da\"],[0.4,\"#fde0ef\"],[0.5,\"#f7f7f7\"],[0.6,\"#e6f5d0\"],[0.7,\"#b8e186\"],[0.8,\"#7fbc41\"],[0.9,\"#4d9221\"],[1,\"#276419\"]]},\"xaxis\":{\"gridcolor\":\"white\",\"linecolor\":\"white\",\"ticks\":\"\",\"title\":{\"standoff\":15},\"zerolinecolor\":\"white\",\"automargin\":true,\"zerolinewidth\":2},\"yaxis\":{\"gridcolor\":\"white\",\"linecolor\":\"white\",\"ticks\":\"\",\"title\":{\"standoff\":15},\"zerolinecolor\":\"white\",\"automargin\":true,\"zerolinewidth\":2},\"scene\":{\"xaxis\":{\"backgroundcolor\":\"#E5ECF6\",\"gridcolor\":\"white\",\"linecolor\":\"white\",\"showbackground\":true,\"ticks\":\"\",\"zerolinecolor\":\"white\",\"gridwidth\":2},\"yaxis\":{\"backgroundcolor\":\"#E5ECF6\",\"gridcolor\":\"white\",\"linecolor\":\"white\",\"showbackground\":true,\"ticks\":\"\",\"zerolinecolor\":\"white\",\"gridwidth\":2},\"zaxis\":{\"backgroundcolor\":\"#E5ECF6\",\"gridcolor\":\"white\",\"linecolor\":\"white\",\"showbackground\":true,\"ticks\":\"\",\"zerolinecolor\":\"white\",\"gridwidth\":2}},\"shapedefaults\":{\"line\":{\"color\":\"#2a3f5f\"}},\"annotationdefaults\":{\"arrowcolor\":\"#2a3f5f\",\"arrowhead\":0,\"arrowwidth\":1},\"geo\":{\"bgcolor\":\"white\",\"landcolor\":\"#E5ECF6\",\"subunitcolor\":\"white\",\"showland\":true,\"showlakes\":true,\"lakecolor\":\"white\"},\"title\":{\"x\":0.05},\"mapbox\":{\"style\":\"light\"}}},\"xaxis\":{\"anchor\":\"y\",\"domain\":[0.0,1.0],\"title\":{\"text\":\"Amount Donated\"}},\"yaxis\":{\"anchor\":\"x\",\"domain\":[0.0,1.0],\"title\":{\"text\":\"Orginization\"}},\"legend\":{\"title\":{\"text\":\"Source\"},\"tracegroupgap\":0},\"title\":{\"text\":\"Who's giving money to Chuck Grassley?\",\"x\":0.5},\"barmode\":\"relative\"},                        {\"responsive\": true}                    ).then(function(){\n",
       "                            \n",
       "var gd = document.getElementById('3f7204ed-9151-495a-928f-d0f0f044b688');\n",
       "var x = new MutationObserver(function (mutations, observer) {{\n",
       "        var display = window.getComputedStyle(gd).display;\n",
       "        if (!display || display === 'none') {{\n",
       "            console.log([gd, 'removed!']);\n",
       "            Plotly.purge(gd);\n",
       "            observer.disconnect();\n",
       "        }}\n",
       "}});\n",
       "\n",
       "// Listen for the removal of the full notebook cells\n",
       "var notebookContainer = gd.closest('#notebook-container');\n",
       "if (notebookContainer) {{\n",
       "    x.observe(notebookContainer, {childList: true});\n",
       "}}\n",
       "\n",
       "// Listen for the clearing of the current output cell\n",
       "var outputEl = gd.closest('.output');\n",
       "if (outputEl) {{\n",
       "    x.observe(outputEl, {childList: true});\n",
       "}}\n",
       "\n",
       "                        })                };                });            </script>        </div>"
      ]
     },
     "metadata": {},
     "output_type": "display_data"
    }
   ],
   "source": [
    "b = 'G000386'\n",
    "myquery = f'''\n",
    "SELECT m.directordername,\n",
    "    c.org_name,\n",
    "    c.pac,\n",
    "    c.ndiv\n",
    "FROM contributions c\n",
    "INNER JOIN members m\n",
    "    ON m.cid = c.cid\n",
    "WHERE m.bioguideid = '{b}'\n",
    "'''\n",
    "contrib_df = pd.read_sql_query(myquery, con=engine)\n",
    "name = contrib_df['directordername'][0]\n",
    "contrib_df = contrib_df.drop('directordername', axis = 1) \n",
    "contrib_df = contrib_df.rename({'org_name': 'Orginization',\n",
    "                               'pac': 'Contribution Via PAC',\n",
    "                               'ndiv': 'Direct Contrbiution'}, axis = 1)\n",
    "contrib_df = pd.melt(contrib_df, id_vars = ['Orginization'],\n",
    "                    value_vars = ['Contribution Via PAC', 'Direct Contrbiution'])\n",
    "fig = px.bar(contrib_df, x = 'value', y = 'Orginization', color = 'variable', \n",
    "             labels = {'value': 'Amount Donated', 'variable': 'Source'},\n",
    "            title = f\"Who's giving money to {name}?\")\n",
    "fig.update(layout=dict(title=dict(x=0.5)))\n",
    "fig.show()"
   ]
  }
 ],
 "metadata": {
  "kernelspec": {
   "display_name": "Python 3 (ipykernel)",
   "language": "python",
   "name": "python3"
  },
  "language_info": {
   "codemirror_mode": {
    "name": "ipython",
    "version": 3
   },
   "file_extension": ".py",
   "mimetype": "text/x-python",
   "name": "python",
   "nbconvert_exporter": "python",
   "pygments_lexer": "ipython3",
   "version": "3.11.4"
  }
 },
 "nbformat": 4,
 "nbformat_minor": 5
}
