{
 "cells": [
  {
   "cell_type": "code",
   "execution_count": 1,
   "id": "9d6cd8f4-e29f-4be9-a06a-e97758677ca8",
   "metadata": {},
   "outputs": [],
   "source": [
    "import os\n",
    "mypassword = os.getenv('mypassword')"
   ]
  },
  {
   "cell_type": "code",
   "execution_count": 3,
   "id": "1da0bd47-16f6-455b-ae36-a6bf651ddadf",
   "metadata": {},
   "outputs": [],
   "source": [
    "mypassword2 = os.environ['mypassword']"
   ]
  },
  {
   "cell_type": "code",
   "execution_count": 4,
   "id": "c9288a31-bfd1-4e86-b89f-1e391a22a890",
   "metadata": {},
   "outputs": [
    {
     "data": {
      "text/plain": [
       "'bieber4eva'"
      ]
     },
     "execution_count": 4,
     "metadata": {},
     "output_type": "execute_result"
    }
   ],
   "source": [
    "mypassword"
   ]
  }
 ],
 "metadata": {
  "kernelspec": {
   "display_name": "Python 3 (ipykernel)",
   "language": "python",
   "name": "python3"
  },
  "language_info": {
   "codemirror_mode": {
    "name": "ipython",
    "version": 3
   },
   "file_extension": ".py",
   "mimetype": "text/x-python",
   "name": "python",
   "nbconvert_exporter": "python",
   "pygments_lexer": "ipython3",
   "version": "3.11.4"
  }
 },
 "nbformat": 4,
 "nbformat_minor": 5
}
